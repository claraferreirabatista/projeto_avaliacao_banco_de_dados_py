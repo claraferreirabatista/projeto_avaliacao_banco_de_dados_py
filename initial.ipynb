{
 "cells": [
  {
   "cell_type": "markdown",
   "metadata": {},
   "source": [
    "Instalação de um conector, para que façamos uma importação"
   ]
  },
  {
   "cell_type": "code",
   "execution_count": 5,
   "metadata": {},
   "outputs": [
    {
     "name": "stdout",
     "output_type": "stream",
     "text": [
      "Defaulting to user installation because normal site-packages is not writeable\n",
      "Requirement already satisfied: mysql-connector-python in /home/clara/.local/lib/python3.10/site-packages (8.1.0)\n",
      "Requirement already satisfied: protobuf<=4.21.12,>=4.21.1 in /home/clara/.local/lib/python3.10/site-packages (from mysql-connector-python) (4.21.12)\n"
     ]
    }
   ],
   "source": [
    "! pip install mysql-connector-python\n"
   ]
  },
  {
   "cell_type": "code",
   "execution_count": 6,
   "metadata": {},
   "outputs": [
    {
     "name": "stdout",
     "output_type": "stream",
     "text": [
      "Defaulting to user installation because normal site-packages is not writeable\n",
      "Requirement already satisfied: pymysql in /home/clara/.local/lib/python3.10/site-packages (1.1.0)\n"
     ]
    }
   ],
   "source": [
    "! pip install pymysql"
   ]
  },
  {
   "cell_type": "code",
   "execution_count": 3,
   "metadata": {},
   "outputs": [],
   "source": [
    "import pymysql\n",
    "import pandas as pd\n",
    "import warnings\n",
    "from IPython.display import display, Markdown"
   ]
  },
  {
   "cell_type": "code",
   "execution_count": 1,
   "metadata": {},
   "outputs": [],
   "source": [
    "def exibir_markdown(texto_md):\n",
    "    display(Markdown(texto_md))"
   ]
  },
  {
   "cell_type": "code",
   "execution_count": 4,
   "metadata": {},
   "outputs": [],
   "source": [
    "# DESATIVAR ALERTAS\n",
    "warnings.filterwarnings('ignore')"
   ]
  },
  {
   "cell_type": "code",
   "execution_count": 5,
   "metadata": {},
   "outputs": [],
   "source": [
    "import mysql.connector\n"
   ]
  },
  {
   "cell_type": "code",
   "execution_count": 6,
   "metadata": {},
   "outputs": [],
   "source": [
    "try:\n",
    "  conn = pymysql.connect( user= 'root',\n",
    "                             host= '127.0.0.1',\n",
    "                             port= 8080,\n",
    "                             password= '123456',\n",
    "                             database= 'LOJINHA')\n",
    "except pymysql.Error as e:\n",
    "  print('Erro ao se conectar: ', e)"
   ]
  },
  {
   "cell_type": "code",
   "execution_count": 7,
   "metadata": {},
   "outputs": [],
   "source": [
    "cursor = conn.cursor()\n"
   ]
  },
  {
   "cell_type": "code",
   "execution_count": 8,
   "metadata": {},
   "outputs": [],
   "source": [
    "admin_user_query = \"CREATE USER 'admin'@'%' IDENTIFIED BY 'admin_password';\"\n",
    "grant_privileges_query = \"GRANT ALL PRIVILEGES ON LOJINHA.* TO 'admin'@'%';\"\n",
    "\n",
    "cursor.execute(admin_user_query)\n",
    "cursor.execute(grant_privileges_query)\n",
    "\n",
    "# Certifique-se de aplicar as alterações\n",
    "conn.commit()\n"
   ]
  },
  {
   "cell_type": "code",
   "execution_count": 15,
   "metadata": {},
   "outputs": [],
   "source": [
    "user_query = \"CREATE USER 'user'@'%' IDENTIFIED BY 'user_password';\"\n",
    "grant_select_query = \"GRANT SELECT ON LOJINHA.* TO 'user'@'%';\"\n",
    "\n",
    "cursor.execute(user_query)\n",
    "cursor.execute(grant_select_query)\n",
    "\n",
    "# Certifique-se de aplicar as alterações\n",
    "conn.commit()\n"
   ]
  },
  {
   "cell_type": "code",
   "execution_count": 9,
   "metadata": {},
   "outputs": [
    {
     "data": {
      "text/plain": [
       "0"
      ]
     },
     "execution_count": 9,
     "metadata": {},
     "output_type": "execute_result"
    }
   ],
   "source": [
    "drop_exists_produto = 'DROP TABLE IF EXISTS produto'\n",
    "drop_exists_cliente = 'DROP TABLE IF EXISTS cliente'\n",
    "\n",
    "cursor.execute(drop_exists_produto)\n",
    "cursor.execute(drop_exists_cliente)"
   ]
  },
  {
   "cell_type": "markdown",
   "metadata": {},
   "source": [
    "Sem normalizações "
   ]
  },
  {
   "cell_type": "code",
   "execution_count": 19,
   "metadata": {},
   "outputs": [],
   "source": [
    "ddl_cliente = ('''\n",
    "    CREATE TABLE IF NOT EXISTS cliente (\n",
    "        codigo_cliente INT AUTO_INCREMENT PRIMARY KEY,\n",
    "        nome_cliente VARCHAR(255) NOT NULL,\n",
    "        sobrenome_cliente VARCHAR(255) NOT NULL,\n",
    "        telefones_cliente VARCHAR(255),\n",
    "        municipio_cliente VARCHAR(255),\n",
    "        codigo_tipo_cliente INT,\n",
    "        tipo_cliente VARCHAR(255)\n",
    "    )\n",
    "''')"
   ]
  },
  {
   "cell_type": "code",
   "execution_count": 20,
   "metadata": {},
   "outputs": [
    {
     "data": {
      "text/plain": [
       "0"
      ]
     },
     "execution_count": 20,
     "metadata": {},
     "output_type": "execute_result"
    }
   ],
   "source": [
    "cursor.execute(ddl_cliente)"
   ]
  },
  {
   "cell_type": "code",
   "execution_count": 21,
   "metadata": {},
   "outputs": [],
   "source": [
    "ddl_produto = ('''\n",
    "    CREATE TABLE IF NOT EXISTS produto (\n",
    "        codigo_produto INT AUTO_INCREMENT PRIMARY KEY,\n",
    "        nome_produto VARCHAR(255) NOT NULL,\n",
    "        descricao_produto TEXT,\n",
    "        codigo_tipo_produto INT,\n",
    "        tipo_produto VARCHAR(255),\n",
    "        codigo_diretor_responsavel INT,\n",
    "        nome_diretor_responsavel VARCHAR(255),\n",
    "        email_diretor_responsavel VARCHAR(255)\n",
    "    )\n",
    "''')"
   ]
  },
  {
   "cell_type": "code",
   "execution_count": 22,
   "metadata": {},
   "outputs": [
    {
     "data": {
      "text/plain": [
       "0"
      ]
     },
     "execution_count": 22,
     "metadata": {},
     "output_type": "execute_result"
    }
   ],
   "source": [
    "cursor.execute(ddl_produto)"
   ]
  },
  {
   "cell_type": "code",
   "execution_count": 24,
   "metadata": {},
   "outputs": [],
   "source": [
    "conn.commit()"
   ]
  },
  {
   "cell_type": "code",
   "execution_count": null,
   "metadata": {},
   "outputs": [],
   "source": []
  }
 ],
 "metadata": {
  "kernelspec": {
   "display_name": "Python 3",
   "language": "python",
   "name": "python3"
  },
  "language_info": {
   "codemirror_mode": {
    "name": "ipython",
    "version": 3
   },
   "file_extension": ".py",
   "mimetype": "text/x-python",
   "name": "python",
   "nbconvert_exporter": "python",
   "pygments_lexer": "ipython3",
   "version": "3.10.12"
  },
  "orig_nbformat": 4
 },
 "nbformat": 4,
 "nbformat_minor": 2
}
