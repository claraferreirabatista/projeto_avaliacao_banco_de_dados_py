{
 "cells": [
  {
   "cell_type": "markdown",
   "metadata": {},
   "source": [
    "Instalação de um conector, para que façamos uma importação"
   ]
  },
  {
   "cell_type": "code",
   "execution_count": 109,
   "metadata": {},
   "outputs": [
    {
     "name": "stdout",
     "output_type": "stream",
     "text": [
      "Defaulting to user installation because normal site-packages is not writeable\n",
      "Requirement already satisfied: mysql-connector-python in /home/clara/.local/lib/python3.10/site-packages (8.1.0)\n",
      "Requirement already satisfied: protobuf<=4.21.12,>=4.21.1 in /home/clara/.local/lib/python3.10/site-packages (from mysql-connector-python) (4.21.12)\n"
     ]
    }
   ],
   "source": [
    "! pip install mysql-connector-python\n"
   ]
  },
  {
   "cell_type": "code",
   "execution_count": 110,
   "metadata": {},
   "outputs": [
    {
     "name": "stdout",
     "output_type": "stream",
     "text": [
      "Defaulting to user installation because normal site-packages is not writeable\n",
      "Requirement already satisfied: pymysql in /home/clara/.local/lib/python3.10/site-packages (1.1.0)\n"
     ]
    }
   ],
   "source": [
    "! pip install pymysql"
   ]
  },
  {
   "cell_type": "code",
   "execution_count": 111,
   "metadata": {},
   "outputs": [],
   "source": [
    "import pymysql\n",
    "import pandas as pd\n",
    "import warnings\n",
    "from IPython.display import display, Markdown"
   ]
  },
  {
   "cell_type": "code",
   "execution_count": 112,
   "metadata": {},
   "outputs": [],
   "source": [
    "def exibir_markdown(texto_md):\n",
    "    display(Markdown(texto_md))"
   ]
  },
  {
   "cell_type": "code",
   "execution_count": 113,
   "metadata": {},
   "outputs": [],
   "source": [
    "# DESATIVAR ALERTAS\n",
    "warnings.filterwarnings('ignore')"
   ]
  },
  {
   "cell_type": "code",
   "execution_count": 114,
   "metadata": {},
   "outputs": [],
   "source": [
    "import mysql.connector\n"
   ]
  },
  {
   "cell_type": "code",
   "execution_count": 115,
   "metadata": {},
   "outputs": [],
   "source": [
    "try:\n",
    "  conn = pymysql.connect( user= 'root',\n",
    "                             host= '127.0.0.1',\n",
    "                             port= 8080,\n",
    "                             password= '123456',\n",
    "                             database= 'LOJINHA')\n",
    "except pymysql.Error as e:\n",
    "  print('Erro ao se conectar: ', e)"
   ]
  },
  {
   "cell_type": "code",
   "execution_count": 116,
   "metadata": {},
   "outputs": [],
   "source": [
    "cursor = conn.cursor()\n"
   ]
  },
  {
   "cell_type": "code",
   "execution_count": 117,
   "metadata": {},
   "outputs": [
    {
     "data": {
      "text/plain": [
       "'admin_user_query = \"CREATE USER \\'clara\\'@\\'%\\' IDENTIFIED BY \\'senhacerta\\';\"\\ngrant_privileges_query = \"GRANT ALL PRIVILEGES ON LOJINHA.* TO \\'clara\\'@\\'%\\';\"\\n\\ncursor.execute(admin_user_query)\\ncursor.execute(grant_privileges_query)\\n\\n# Certifique-se de aplicar as alterações\\nconn.commit()\\n'"
      ]
     },
     "execution_count": 117,
     "metadata": {},
     "output_type": "execute_result"
    }
   ],
   "source": [
    "\"\"\"admin_user_query = \"CREATE USER 'clara'@'%' IDENTIFIED BY 'senhacerta';\"\n",
    "grant_privileges_query = \"GRANT ALL PRIVILEGES ON LOJINHA.* TO 'clara'@'%';\"\n",
    "\n",
    "cursor.execute(admin_user_query)\n",
    "cursor.execute(grant_privileges_query)\n",
    "\n",
    "# Certifique-se de aplicar as alterações\n",
    "conn.commit()\n",
    "\"\"\""
   ]
  },
  {
   "cell_type": "code",
   "execution_count": 118,
   "metadata": {},
   "outputs": [
    {
     "data": {
      "text/plain": [
       "'user_query = \"CREATE USER \\'user\\'@\\'%\\' IDENTIFIED BY \\'user_password\\';\"\\ngrant_select_query = \"GRANT SELECT ON LOJINHA.* TO \\'user\\'@\\'%\\';\"\\n\\ncursor.execute(user_query)\\ncursor.execute(grant_select_query)\\n\\n# Certifique-se de aplicar as alterações\\nconn.commit()'"
      ]
     },
     "execution_count": 118,
     "metadata": {},
     "output_type": "execute_result"
    }
   ],
   "source": [
    "\"\"\"user_query = \"CREATE USER 'user'@'%' IDENTIFIED BY 'user_password';\"\n",
    "grant_select_query = \"GRANT SELECT ON LOJINHA.* TO 'user'@'%';\"\n",
    "\n",
    "cursor.execute(user_query)\n",
    "cursor.execute(grant_select_query)\n",
    "\n",
    "# Certifique-se de aplicar as alterações\n",
    "conn.commit()\"\"\"\n"
   ]
  },
  {
   "cell_type": "code",
   "execution_count": 119,
   "metadata": {},
   "outputs": [],
   "source": [
    "drop_exists_cliente_produto = 'DROP TABLE IF EXISTS cliente_produto'\n",
    "drop_exists_diretor_responsavel = 'DROP TABLE IF EXISTS diretor_responsavel'\n",
    "drop_exists_categoria = 'DROP TABLE IF EXISTS categoria'\n",
    "drop_exists_produto = 'DROP TABLE IF EXISTS produto'\n",
    "drop_exists_tipo_cliente = 'DROP TABLE IF EXISTS tipo_cliente'\n",
    "drop_exists_cliente = 'DROP TABLE IF EXISTS cliente'\n"
   ]
  },
  {
   "cell_type": "code",
   "execution_count": 120,
   "metadata": {},
   "outputs": [],
   "source": [
    "cursor.execute(drop_exists_cliente_produto)\n",
    "cursor.execute(drop_exists_cliente)\n",
    "cursor.execute(drop_exists_tipo_cliente)\n",
    "cursor.execute(drop_exists_produto)\n",
    "cursor.execute(drop_exists_categoria)\n",
    "cursor.execute(drop_exists_diretor_responsavel)\n",
    "\n"
   ]
  },
  {
   "cell_type": "markdown",
   "metadata": {},
   "source": [
    "Sem normalizações "
   ]
  },
  {
   "cell_type": "code",
   "execution_count": null,
   "metadata": {},
   "outputs": [
    {
     "data": {
      "text/plain": [
       "\"ddl_cliente = ('''\\n    CREATE TABLE IF NOT EXISTS cliente (\\n        codigo_cliente INT AUTO_INCREMENT PRIMARY KEY,\\n        nome_cliente VARCHAR(255) NOT NULL,\\n        sobrenome_cliente VARCHAR(255) NOT NULL,\\n        telefones_cliente VARCHAR(255),\\n        municipio_cliente VARCHAR(255),\\n        codigo_tipo_cliente INT,\\n        tipo_cliente VARCHAR(255)\\n    )\\n''')\""
      ]
     },
     "execution_count": 43,
     "metadata": {},
     "output_type": "execute_result"
    }
   ],
   "source": [
    "\"\"\"ddl_cliente = ('''\n",
    "    CREATE TABLE IF NOT EXISTS cliente (\n",
    "        codigo_cliente INT AUTO_INCREMENT PRIMARY KEY,\n",
    "        nome_cliente VARCHAR(255) NOT NULL,\n",
    "        sobrenome_cliente VARCHAR(255) NOT NULL,\n",
    "        telefones_cliente VARCHAR(255),\n",
    "        municipio_cliente VARCHAR(255),\n",
    "        codigo_tipo_cliente INT,\n",
    "        tipo_cliente VARCHAR(255)\n",
    "    )\n",
    "''')\"\"\""
   ]
  },
  {
   "cell_type": "code",
   "execution_count": null,
   "metadata": {},
   "outputs": [
    {
     "data": {
      "text/plain": [
       "\"ddl_produto = ('''\\n    CREATE TABLE IF NOT EXISTS produto (\\n        codigo_produto INT AUTO_INCREMENT PRIMARY KEY,\\n        nome_produto VARCHAR(255) NOT NULL,\\n        descricao_produto TEXT,\\n        codigo_tipo_produto INT,\\n        tipo_produto VARCHAR(255),\\n        codigo_diretor_responsavel INT,\\n        nome_diretor_responsavel VARCHAR(255),\\n        email_diretor_responsavel VARCHAR(255)\\n    )\\n''')\""
      ]
     },
     "execution_count": 44,
     "metadata": {},
     "output_type": "execute_result"
    }
   ],
   "source": [
    "\"\"\"ddl_produto = ('''\n",
    "    CREATE TABLE IF NOT EXISTS produto (\n",
    "        codigo_produto INT AUTO_INCREMENT PRIMARY KEY,\n",
    "        nome_produto VARCHAR(255) NOT NULL,\n",
    "        descricao_produto TEXT,\n",
    "        codigo_tipo_produto INT,\n",
    "        tipo_produto VARCHAR(255),\n",
    "        codigo_diretor_responsavel INT,\n",
    "        nome_diretor_responsavel VARCHAR(255),\n",
    "        email_diretor_responsavel VARCHAR(255)\n",
    "    )\n",
    "''')\"\"\""
   ]
  },
  {
   "cell_type": "markdown",
   "metadata": {},
   "source": [
    "Normalização"
   ]
  },
  {
   "cell_type": "code",
   "execution_count": null,
   "metadata": {},
   "outputs": [],
   "source": [
    "ddl_tipo_cliente = (\"\"\"\n",
    "    CREATE TABLE IF NOT EXISTS tipo_cliente (\n",
    "        codigo_tipo_cliente INT AUTO_INCREMENT PRIMARY KEY,\n",
    "        tipo_cliente VARCHAR(255)\n",
    "    );\n",
    "\"\"\")\n"
   ]
  },
  {
   "cell_type": "code",
   "execution_count": null,
   "metadata": {},
   "outputs": [
    {
     "data": {
      "text/plain": [
       "0"
      ]
     },
     "execution_count": 83,
     "metadata": {},
     "output_type": "execute_result"
    }
   ],
   "source": [
    "cursor.execute(ddl_tipo_cliente)"
   ]
  },
  {
   "cell_type": "code",
   "execution_count": null,
   "metadata": {},
   "outputs": [],
   "source": [
    "ddl_cliente = ('''\n",
    "    CREATE TABLE IF NOT EXISTS cliente (\n",
    "        codigo_cliente INT AUTO_INCREMENT PRIMARY KEY,\n",
    "        nome_cliente VARCHAR(255) NOT NULL,\n",
    "        sobrenome_cliente VARCHAR(255) NOT NULL,\n",
    "        tipo_cliente INT, \n",
    "        telefones_cliente VARCHAR(255),\n",
    "        municipio_cliente VARCHAR(255),\n",
    "        FOREIGN KEY (tipo_cliente) REFERENCES tipo_cliente(codigo_tipo_cliente) ON DELETE CASCADE\n",
    "    );\n",
    "''')"
   ]
  },
  {
   "cell_type": "code",
   "execution_count": null,
   "metadata": {},
   "outputs": [
    {
     "data": {
      "text/plain": [
       "0"
      ]
     },
     "execution_count": 85,
     "metadata": {},
     "output_type": "execute_result"
    }
   ],
   "source": [
    "cursor.execute(ddl_cliente)"
   ]
  },
  {
   "cell_type": "code",
   "execution_count": null,
   "metadata": {},
   "outputs": [],
   "source": [
    "ddl_diretor_responsavel = (\"\"\"\n",
    "    CREATE TABLE IF NOT EXISTS diretor_responsavel (\n",
    "        codigo_diretor_responsavel INT AUTO_INCREMENT PRIMARY KEY,\n",
    "        nome_diretor_responsavel VARCHAR(255),\n",
    "        email_diretor_responsavel VARCHAR(255)\n",
    "    );\n",
    "\n",
    "        \"\"\")\n"
   ]
  },
  {
   "cell_type": "code",
   "execution_count": null,
   "metadata": {},
   "outputs": [
    {
     "data": {
      "text/plain": [
       "0"
      ]
     },
     "execution_count": 87,
     "metadata": {},
     "output_type": "execute_result"
    }
   ],
   "source": [
    "cursor.execute(ddl_diretor_responsavel)"
   ]
  },
  {
   "cell_type": "code",
   "execution_count": null,
   "metadata": {},
   "outputs": [],
   "source": [
    "ddl_categoria = ('''\n",
    "    CREATE TABLE IF NOT EXISTS categoria (\n",
    "        codigo_categoria INT AUTO_INCREMENT PRIMARY KEY,\n",
    "        codigo_diretor_responsavel INT,\n",
    "        tipo_produto VARCHAR(255),\n",
    "        FOREIGN KEY (codigo_diretor_responsavel) REFERENCES diretor_responsavel(codigo_diretor_responsavel) ON DELETE CASCADE\n",
    "    );\n",
    "''')"
   ]
  },
  {
   "cell_type": "code",
   "execution_count": null,
   "metadata": {},
   "outputs": [
    {
     "data": {
      "text/plain": [
       "0"
      ]
     },
     "execution_count": 89,
     "metadata": {},
     "output_type": "execute_result"
    }
   ],
   "source": [
    "cursor.execute(ddl_categoria)"
   ]
  },
  {
   "cell_type": "code",
   "execution_count": null,
   "metadata": {},
   "outputs": [],
   "source": [
    "ddl_produto = ('''\n",
    "    CREATE TABLE IF NOT EXISTS produto (\n",
    "        codigo_produto INT AUTO_INCREMENT PRIMARY KEY,\n",
    "        nome_produto VARCHAR(255) NOT NULL,\n",
    "        descricao_produto TEXT,\n",
    "        codigo_categoria INT,\n",
    "        valor DECIMAL(10, 2) NOT NULL DEFAULT 0.00,\n",
    "        FOREIGN KEY (codigo_categoria) REFERENCES categoria(codigo_categoria) ON DELETE CASCADE\n",
    "    );\n",
    "''')\n"
   ]
  },
  {
   "cell_type": "code",
   "execution_count": null,
   "metadata": {},
   "outputs": [
    {
     "data": {
      "text/plain": [
       "0"
      ]
     },
     "execution_count": 91,
     "metadata": {},
     "output_type": "execute_result"
    }
   ],
   "source": [
    "cursor.execute(ddl_produto)"
   ]
  },
  {
   "cell_type": "code",
   "execution_count": null,
   "metadata": {},
   "outputs": [],
   "source": [
    "conn.commit()"
   ]
  },
  {
   "cell_type": "code",
   "execution_count": null,
   "metadata": {},
   "outputs": [],
   "source": [
    "ddl_cliente_produto = ('''\n",
    "    CREATE TABLE IF NOT EXISTS cliente_produto (\n",
    "        codigo_cliente INT,\n",
    "        codigo_produto INT,\n",
    "        PRIMARY KEY (codigo_cliente, codigo_produto),\n",
    "        FOREIGN KEY (codigo_cliente) REFERENCES cliente(codigo_cliente) ON DELETE CASCADE,\n",
    "        FOREIGN KEY (codigo_produto) REFERENCES produto(codigo_produto) ON DELETE CASCADE\n",
    "    );\n",
    "''')\n"
   ]
  },
  {
   "cell_type": "code",
   "execution_count": null,
   "metadata": {},
   "outputs": [],
   "source": [
    "cursor.execute(ddl_cliente_produto)\n",
    "\n",
    "conn.commit()\n"
   ]
  },
  {
   "cell_type": "code",
   "execution_count": null,
   "metadata": {},
   "outputs": [],
   "source": [
    "dml_insert_diretor_responsavel = (\"\"\"\n",
    "    INSERT INTO diretor_responsavel (nome_diretor_responsavel, email_diretor_responsavel) VALUES\n",
    "        ('João Silva', 'joao.silva@bancoclara.com'),\n",
    "        ('Maria Santos', 'maria.santos@bancoclara.com'),\n",
    "        ('Pedro Alves', 'pedro.alves@bancoclara.com');\n",
    "\"\"\")\n"
   ]
  },
  {
   "cell_type": "code",
   "execution_count": null,
   "metadata": {},
   "outputs": [
    {
     "data": {
      "text/plain": [
       "3"
      ]
     },
     "execution_count": 96,
     "metadata": {},
     "output_type": "execute_result"
    }
   ],
   "source": [
    "cursor.execute(dml_insert_diretor_responsavel)"
   ]
  },
  {
   "cell_type": "code",
   "execution_count": null,
   "metadata": {},
   "outputs": [],
   "source": [
    "ddl_insert_categorias_joao_silva = (\"\"\" \n",
    "INSERT INTO categoria (codigo_diretor_responsavel, tipo_produto) VALUES\n",
    "    (1, 'Conta Corrente'),\n",
    "    (1, 'Empréstimos Pessoais'),\n",
    "    (1, 'Investimentos em Renda Fixa');\n",
    "\"\"\")"
   ]
  },
  {
   "cell_type": "code",
   "execution_count": null,
   "metadata": {},
   "outputs": [
    {
     "data": {
      "text/plain": [
       "3"
      ]
     },
     "execution_count": 98,
     "metadata": {},
     "output_type": "execute_result"
    }
   ],
   "source": [
    "cursor.execute(ddl_insert_categorias_joao_silva)"
   ]
  },
  {
   "cell_type": "code",
   "execution_count": null,
   "metadata": {},
   "outputs": [],
   "source": [
    "ddl_insert_categorias_maria_santos = (\"\"\"\n",
    "INSERT INTO categoria (codigo_diretor_responsavel, tipo_produto) VALUES\n",
    "    (2, 'Cartões de Crédito'),\n",
    "    (2, 'Seguros de Vida');\n",
    "\"\"\")"
   ]
  },
  {
   "cell_type": "code",
   "execution_count": null,
   "metadata": {},
   "outputs": [
    {
     "data": {
      "text/plain": [
       "2"
      ]
     },
     "execution_count": 100,
     "metadata": {},
     "output_type": "execute_result"
    }
   ],
   "source": [
    "cursor.execute(ddl_insert_categorias_maria_santos)"
   ]
  },
  {
   "cell_type": "code",
   "execution_count": null,
   "metadata": {},
   "outputs": [],
   "source": [
    "ddl_insert_categorias_pedro_alves = (\"\"\"\n",
    "INSERT INTO categoria (codigo_diretor_responsavel, tipo_produto) VALUES\n",
    "    (3, 'Internet Banking'),\n",
    "    (3, 'Pagamentos Eletrônicos'),\n",
    "    (3, 'Crédito Imobiliário');\n",
    "\"\"\")"
   ]
  },
  {
   "cell_type": "code",
   "execution_count": null,
   "metadata": {},
   "outputs": [
    {
     "data": {
      "text/plain": [
       "3"
      ]
     },
     "execution_count": 102,
     "metadata": {},
     "output_type": "execute_result"
    }
   ],
   "source": [
    "cursor.execute(ddl_insert_categorias_pedro_alves)"
   ]
  },
  {
   "cell_type": "code",
   "execution_count": null,
   "metadata": {},
   "outputs": [],
   "source": [
    "dml_insert_produto = \"\"\"INSERT INTO produto (nome_produto, descricao_produto, codigo_categoria, valor) VALUES\n",
    "                      ('Conta Corrente Básica', 'Conta corrente para uso diário', 1, 0.00),\n",
    "                      ('Conta Corrente Premium', 'Conta corrente com benefícios exclusivos', 1, 10.99),\n",
    "                      ('Empréstimo Pessoal P1', 'Empréstimo pessoal de curto prazo', 2, 5000.00),\n",
    "                      ('Empréstimo Pessoal P2', 'Empréstimo pessoal de longo prazo', 2, 10000.00),\n",
    "                      ('Investimento em Renda Fixa A', 'Investimento de baixo risco', 3, 1000.00),\n",
    "                      ('Investimento em Renda Fixa B', 'Investimento de médio risco', 3, 5000.00),\n",
    "                      ('Cartão de Crédito Silver', 'Cartão de crédito com limite moderado', 4, 0.00),\n",
    "                      ('Cartão de Crédito Gold', 'Cartão de crédito com benefícios premium', 4, 50.00),\n",
    "                      ('Seguro de Vida Básico', 'Seguro de vida com cobertura mínima', 5, 20.00),\n",
    "                      ('Seguro de Vida Premium', 'Seguro de vida com cobertura ampla', 5, 50.00),\n",
    "                      ('Internet Banking App', 'Aplicativo de Internet Banking', 6, 0.00),\n",
    "                      ('Pagamentos Eletrônicos', 'Sistema de pagamentos online', 7, 0.00),\n",
    "                      ('Crédito Imobiliário A', 'Crédito para compra de imóveis', 8, 100000.00),\n",
    "                      ('Crédito Imobiliário B', 'Crédito para construção de imóveis', 8, 150000.00),\n",
    "                      ('Investimento em Renda Fixa C', 'Investimento de baixo risco', 3, 10000.00),\n",
    "                      ('Cartão de Crédito Platinum', 'Cartão de crédito com benefícios exclusivos', 4, 100.00),\n",
    "                      ('Seguro de Vida Premium Plus', 'Seguro de vida com cobertura ampla e extras', 5, 80.00),\n",
    "                      ('Internet Banking Website', 'Plataforma de Internet Banking', 6, 0.00),\n",
    "                      ('Crédito Imobiliário C', 'Crédito para compra de imóveis de luxo', 8, 300000.00);\n",
    "\n",
    "                   \n",
    "\"\"\"\n"
   ]
  },
  {
   "cell_type": "code",
   "execution_count": null,
   "metadata": {},
   "outputs": [
    {
     "data": {
      "text/plain": [
       "19"
      ]
     },
     "execution_count": 108,
     "metadata": {},
     "output_type": "execute_result"
    }
   ],
   "source": [
    "cursor.execute(dml_insert_produto)"
   ]
  },
  {
   "cell_type": "code",
   "execution_count": null,
   "metadata": {},
   "outputs": [],
   "source": [
    "dml_insert_produto_sem_categoria = \"\"\"INSERT INTO produto (nome_produto, descricao_produto, valor) VALUES\n",
    "                    ('Seguro de Carro', 'Seguro de carro com cobertura mínima', 200.00),\n",
    "                    ('Seguro de Carro Plus', 'Seguro de vida com cobertura ampla', 500.00);\"\"\""
   ]
  },
  {
   "cell_type": "code",
   "execution_count": null,
   "metadata": {},
   "outputs": [
    {
     "data": {
      "text/plain": [
       "2"
      ]
     },
     "execution_count": 106,
     "metadata": {},
     "output_type": "execute_result"
    }
   ],
   "source": [
    "cursor.execute(dml_insert_produto_sem_categoria)"
   ]
  },
  {
   "cell_type": "code",
   "execution_count": null,
   "metadata": {},
   "outputs": [],
   "source": [
    "dml_insert_tipos_cliente = \"\"\"\n",
    "INSERT INTO tipo_cliente (tipo_cliente) VALUES\n",
    "    ('Pessoa Física'),\n",
    "    ('Pessoa Jurídica'),\n",
    "    ('Conta Conjunta');\n",
    "\"\"\"\n"
   ]
  },
  {
   "cell_type": "code",
   "execution_count": null,
   "metadata": {},
   "outputs": [
    {
     "data": {
      "text/plain": [
       "3"
      ]
     },
     "execution_count": 69,
     "metadata": {},
     "output_type": "execute_result"
    }
   ],
   "source": [
    "cursor.execute(dml_insert_tipos_cliente)"
   ]
  },
  {
   "cell_type": "code",
   "execution_count": null,
   "metadata": {},
   "outputs": [],
   "source": [
    "dml_insert_cliente = \"\"\" \n",
    "INSERT INTO cliente (nome_cliente, sobrenome_cliente, tipo_cliente, telefones_cliente, municipio_cliente) VALUES\n",
    "    ('João', 'Silva', 1, '123-456-7890', 'São Paulo'),\n",
    "    ('Maria', 'Santos', 1, '987-654-3210', 'Rio de Janeiro'),\n",
    "    ('Pedro', 'Alves', 1, '555-555-5555', 'Belo Horizonte'),\n",
    "    ('Ana', 'Rodrigues', 1, '111-222-3333', 'Porto Alegre'),\n",
    "    ('Luiz', 'Gomes', 1, '444-444-4444', 'Recife'),\n",
    "    ('Mariana', 'Fernandes', 1, '777-777-7777', 'Brasília'),\n",
    "    ('Rafael', 'Oliveira', 2, '222-333-4444', 'Fortaleza'),\n",
    "    ('Carla', 'Mendes', 2, '999-999-9999', 'Manaus'),\n",
    "    ('Lucas', 'Pereira', 2, '777-888-9999', 'Salvador'),\n",
    "    ('Isabela', 'Lima', 2, '666-666-6666', 'Curitiba'),\n",
    "    ('José', 'Dias', 3, '123-321-1234', 'Goiânia'),\n",
    "    ('Fernanda', 'Martins', 3, '987-987-9876', 'Natal'),\n",
    "    ('Gustavo', 'Ferreira', 3, '555-666-7777', 'Florianópolis'),\n",
    "    ('Camila', 'Ramos', 1, '888-888-8888', 'Maceió'),\n",
    "    ('Antônio', 'Cavalcante', 1, '777-555-4444', 'Vitória'),\n",
    "    ('Patrícia', 'Costa', 2, '123-555-9999', 'Porto Velho'),\n",
    "    ('Roberto', 'Sousa', 2, '333-444-5555', 'Teresina'),\n",
    "    ('Amanda', 'Oliveira', 3, '111-222-3333', 'João Pessoa'),\n",
    "    ('Ricardo', 'Silveira', 3, '444-333-2222', 'Cuiabá'),\n",
    "    ('Larissa', 'Fernandes', 1, '777-999-5555', 'Aracaju'),\n",
    "    ('Marcelo', 'Carvalho', 1, '666-777-8888', 'Campo Grande'),\n",
    "    ('Sandra', 'Gonçalves', 1, '555-666-7777', 'Boa Vista'),\n",
    "    ('Carlos', 'Santana', 2, '222-333-4444', 'Palmas'),\n",
    "    ('Tatiana', 'Mendes', 2, '999-888-7777', 'Porto Alegre'),\n",
    "    ('Fábio', 'Ribeiro', 2, '111-222-3333', 'São Luís'),\n",
    "    ('Vanessa', 'Lima', 1, '555-444-3333', 'Manaus'),\n",
    "    ('Eduardo', 'Oliveira', 1, '777-777-7777', 'Salvador'),\n",
    "    ('Márcia', 'Sousa', 1, '123-123-1234', 'Goiânia'),\n",
    "    ('Paulo', 'Ferreira', 1, '777-888-9999', 'Natal'),\n",
    "    ('Cristina', 'Costa', 2, '666-555-4444', 'Florianópolis'),\n",
    "    ('Raul', 'Santos', 2, '333-222-1111', 'João Pessoa'),\n",
    "    ('Lívia', 'Oliveira', 3, '888-888-8888', 'Belém'),\n",
    "    ('Mateus', 'Carvalho', 3, '999-999-9999', 'Maceió'),\n",
    "    ('Fernando', 'Gonçalves', 1, '111-111-1111', 'Aracaju'),\n",
    "    ('Sônia', 'Santos', 1, '444-555-6666', 'Palmas'),\n",
    "    ('Alberto', 'Lima', 1, '333-333-3333', 'Cuiabá'),\n",
    "    ('Aline', 'Oliveira', 2, '111-222-3333', 'Porto Velho'),\n",
    "    ('Milton', 'Sousa', 2, '555-555-5555', 'Teresina');\n",
    "\"\"\"\n"
   ]
  },
  {
   "cell_type": "code",
   "execution_count": null,
   "metadata": {},
   "outputs": [
    {
     "data": {
      "text/plain": [
       "38"
      ]
     },
     "execution_count": 71,
     "metadata": {},
     "output_type": "execute_result"
    }
   ],
   "source": [
    "cursor.execute(dml_insert_cliente)\n"
   ]
  },
  {
   "cell_type": "code",
   "execution_count": null,
   "metadata": {},
   "outputs": [],
   "source": [
    "ddl_view_produtos = '''\n",
    "    CREATE VIEW produtos_maior_que_100 AS\n",
    "    SELECT nome_produto AS Produto, valor AS Valor\n",
    "    FROM produto\n",
    "    WHERE valor > 100\n",
    "    ORDER BY valor, nome_produto;\n",
    "'''"
   ]
  },
  {
   "cell_type": "code",
   "execution_count": null,
   "metadata": {},
   "outputs": [
    {
     "data": {
      "text/plain": [
       "0"
      ]
     },
     "execution_count": 74,
     "metadata": {},
     "output_type": "execute_result"
    }
   ],
   "source": [
    "cursor.execute(ddl_view_produtos)"
   ]
  },
  {
   "cell_type": "code",
   "execution_count": null,
   "metadata": {},
   "outputs": [],
   "source": [
    "conn.commit()"
   ]
  },
  {
   "cell_type": "code",
   "execution_count": null,
   "metadata": {},
   "outputs": [],
   "source": [
    "dql_produtos_caros = 'SELECT * FROM produtos_maior_que_100;'\n",
    "\n"
   ]
  },
  {
   "cell_type": "code",
   "execution_count": null,
   "metadata": {},
   "outputs": [
    {
     "data": {
      "text/plain": [
       "8"
      ]
     },
     "execution_count": 77,
     "metadata": {},
     "output_type": "execute_result"
    }
   ],
   "source": [
    "cursor.execute(dql_produtos_caros)"
   ]
  },
  {
   "cell_type": "code",
   "execution_count": null,
   "metadata": {},
   "outputs": [],
   "source": [
    "resultados = cursor.fetchall()"
   ]
  },
  {
   "cell_type": "markdown",
   "metadata": {},
   "source": [
    "criar uma visualização com pandas"
   ]
  },
  {
   "cell_type": "code",
   "execution_count": null,
   "metadata": {},
   "outputs": [
    {
     "name": "stdout",
     "output_type": "stream",
     "text": [
      "('Investimento em Renda Fixa A', Decimal('1000.00'))\n",
      "('Empréstimo Pessoal P1', Decimal('5000.00'))\n",
      "('Investimento em Renda Fixa B', Decimal('5000.00'))\n",
      "('Empréstimo Pessoal P2', Decimal('10000.00'))\n",
      "('Investimento em Renda Fixa C', Decimal('10000.00'))\n",
      "('Crédito Imobiliário A', Decimal('100000.00'))\n",
      "('Crédito Imobiliário B', Decimal('150000.00'))\n",
      "('Crédito Imobiliário C', Decimal('300000.00'))\n"
     ]
    }
   ],
   "source": [
    "for resultado in resultados:\n",
    "    print(resultado)\n"
   ]
  },
  {
   "cell_type": "code",
   "execution_count": null,
   "metadata": {},
   "outputs": [],
   "source": [
    "dql_media_valor = \"\"\"\n",
    "    SELECT codigo_produto, valor FROM produto\n",
    "    WHERE valor > (SELECT AVG(valor) FROM produto);\n",
    "\"\"\""
   ]
  },
  {
   "cell_type": "code",
   "execution_count": null,
   "metadata": {},
   "outputs": [
    {
     "data": {
      "text/plain": [
       "3"
      ]
     },
     "execution_count": 58,
     "metadata": {},
     "output_type": "execute_result"
    }
   ],
   "source": [
    "cursor.execute(dql_media_valor)"
   ]
  },
  {
   "cell_type": "code",
   "execution_count": null,
   "metadata": {},
   "outputs": [],
   "source": [
    "resultados = cursor.fetchall()"
   ]
  },
  {
   "cell_type": "code",
   "execution_count": null,
   "metadata": {},
   "outputs": [
    {
     "name": "stdout",
     "output_type": "stream",
     "text": [
      "(13, Decimal('100000.00'))\n",
      "(14, Decimal('150000.00'))\n",
      "(19, Decimal('300000.00'))\n"
     ]
    }
   ],
   "source": [
    "for resultado in resultados:\n",
    "    print(resultado)"
   ]
  },
  {
   "cell_type": "code",
   "execution_count": null,
   "metadata": {},
   "outputs": [],
   "source": []
  }
 ],
 "metadata": {
  "kernelspec": {
   "display_name": "Python 3",
   "language": "python",
   "name": "python3"
  },
  "language_info": {
   "codemirror_mode": {
    "name": "ipython",
    "version": 3
   },
   "file_extension": ".py",
   "mimetype": "text/x-python",
   "name": "python",
   "nbconvert_exporter": "python",
   "pygments_lexer": "ipython3",
   "version": "3.10.12"
  },
  "orig_nbformat": 4
 },
 "nbformat": 4,
 "nbformat_minor": 2
}
