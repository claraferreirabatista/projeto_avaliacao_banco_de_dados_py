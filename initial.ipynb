{
 "cells": [
  {
   "cell_type": "markdown",
   "metadata": {},
   "source": [
    "Instalação de um conector, para que façamos uma importação"
   ]
  },
  {
   "cell_type": "code",
   "execution_count": 2,
   "metadata": {},
   "outputs": [
    {
     "name": "stdout",
     "output_type": "stream",
     "text": [
      "Defaulting to user installation because normal site-packages is not writeable\n",
      "Requirement already satisfied: pymysql in /home/clara/.local/lib/python3.10/site-packages (1.1.0)\n"
     ]
    }
   ],
   "source": [
    "! pip install pymysql"
   ]
  },
  {
   "cell_type": "code",
   "execution_count": 3,
   "metadata": {},
   "outputs": [],
   "source": [
    "import pymysql\n",
    "import pandas as pd\n",
    "import warnings\n",
    "from IPython.display import display, Markdown"
   ]
  },
  {
   "cell_type": "code",
   "execution_count": 4,
   "metadata": {},
   "outputs": [],
   "source": [
    "def exibir_markdown(texto_md):\n",
    "    display(Markdown(texto_md))"
   ]
  },
  {
   "cell_type": "code",
   "execution_count": 5,
   "metadata": {},
   "outputs": [],
   "source": [
    "# DESATIVAR ALERTAS\n",
    "warnings.filterwarnings('ignore')"
   ]
  },
  {
   "cell_type": "code",
   "execution_count": 11,
   "metadata": {},
   "outputs": [],
   "source": [
    "drop_exists_cliente_produto = 'DROP TABLE IF EXISTS cliente_produto'\n",
    "drop_exists_diretor_responsavel = 'DROP TABLE IF EXISTS diretor_responsavel'\n",
    "drop_exists_categoria = 'DROP TABLE IF EXISTS categoria'\n",
    "drop_exists_produto = 'DROP TABLE IF EXISTS produto'\n",
    "drop_exists_tipo_cliente = 'DROP TABLE IF EXISTS tipo_cliente'\n",
    "drop_exists_cliente = 'DROP TABLE IF EXISTS cliente'\n"
   ]
  },
  {
   "cell_type": "code",
   "execution_count": 12,
   "metadata": {},
   "outputs": [
    {
     "data": {
      "text/plain": [
       "0"
      ]
     },
     "execution_count": 12,
     "metadata": {},
     "output_type": "execute_result"
    }
   ],
   "source": [
    "cursor.execute(drop_exists_cliente_produto)\n",
    "cursor.execute(drop_exists_cliente)\n",
    "cursor.execute(drop_exists_tipo_cliente)\n",
    "cursor.execute(drop_exists_produto)\n",
    "cursor.execute(drop_exists_categoria)\n",
    "cursor.execute(drop_exists_diretor_responsavel)\n",
    "\n"
   ]
  },
  {
   "cell_type": "markdown",
   "metadata": {},
   "source": [
    "Sem normalizações "
   ]
  },
  {
   "cell_type": "code",
   "execution_count": 13,
   "metadata": {},
   "outputs": [
    {
     "data": {
      "text/plain": [
       "\"ddl_cliente = ('''\\n    CREATE TABLE IF NOT EXISTS cliente (\\n        codigo_cliente INT AUTO_INCREMENT PRIMARY KEY,\\n        nome_cliente VARCHAR(255) NOT NULL,\\n        sobrenome_cliente VARCHAR(255) NOT NULL,\\n        telefones_cliente VARCHAR(255),\\n        municipio_cliente VARCHAR(255),\\n        codigo_tipo_cliente INT,\\n        tipo_cliente VARCHAR(255)\\n    )\\n''')\""
      ]
     },
     "execution_count": 13,
     "metadata": {},
     "output_type": "execute_result"
    }
   ],
   "source": [
    "\"\"\"ddl_cliente = ('''\n",
    "    CREATE TABLE IF NOT EXISTS cliente (\n",
    "        codigo_cliente INT AUTO_INCREMENT PRIMARY KEY,\n",
    "        nome_cliente VARCHAR(255) NOT NULL,\n",
    "        sobrenome_cliente VARCHAR(255) NOT NULL,\n",
    "        telefones_cliente VARCHAR(255),\n",
    "        municipio_cliente VARCHAR(255),\n",
    "        codigo_tipo_cliente INT,\n",
    "        tipo_cliente VARCHAR(255)\n",
    "    )\n",
    "''')\"\"\""
   ]
  },
  {
   "cell_type": "code",
   "execution_count": 14,
   "metadata": {},
   "outputs": [
    {
     "data": {
      "text/plain": [
       "\"ddl_produto = ('''\\n    CREATE TABLE IF NOT EXISTS produto (\\n        codigo_produto INT AUTO_INCREMENT PRIMARY KEY,\\n        nome_produto VARCHAR(255) NOT NULL,\\n        descricao_produto TEXT,\\n        codigo_tipo_produto INT,\\n        tipo_produto VARCHAR(255),\\n        codigo_diretor_responsavel INT,\\n        nome_diretor_responsavel VARCHAR(255),\\n        email_diretor_responsavel VARCHAR(255)\\n    )\\n''')\""
      ]
     },
     "execution_count": 14,
     "metadata": {},
     "output_type": "execute_result"
    }
   ],
   "source": [
    "\"\"\"ddl_produto = ('''\n",
    "    CREATE TABLE IF NOT EXISTS produto (\n",
    "        codigo_produto INT AUTO_INCREMENT PRIMARY KEY,\n",
    "        nome_produto VARCHAR(255) NOT NULL,\n",
    "        descricao_produto TEXT,\n",
    "        codigo_tipo_produto INT,\n",
    "        tipo_produto VARCHAR(255),\n",
    "        codigo_diretor_responsavel INT,\n",
    "        nome_diretor_responsavel VARCHAR(255),\n",
    "        email_diretor_responsavel VARCHAR(255)\n",
    "    )\n",
    "''')\"\"\""
   ]
  }
 ],
 "metadata": {
  "kernelspec": {
   "display_name": "Python 3",
   "language": "python",
   "name": "python3"
  },
  "language_info": {
   "codemirror_mode": {
    "name": "ipython",
    "version": 3
   },
   "file_extension": ".py",
   "mimetype": "text/x-python",
   "name": "python",
   "nbconvert_exporter": "python",
   "pygments_lexer": "ipython3",
   "version": "3.10.12"
  },
  "orig_nbformat": 4
 },
 "nbformat": 4,
 "nbformat_minor": 2
}
