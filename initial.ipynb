{
 "cells": [
  {
   "cell_type": "markdown",
   "metadata": {},
   "source": [
    "Instalação de um conector, para que façamos uma importação"
   ]
  },
  {
   "cell_type": "code",
   "execution_count": 1,
   "metadata": {},
   "outputs": [
    {
     "name": "stdout",
     "output_type": "stream",
     "text": [
      "Defaulting to user installation because normal site-packages is not writeable\n",
      "Requirement already satisfied: mysql-connector-python in /home/clara/.local/lib/python3.10/site-packages (8.1.0)\n",
      "Requirement already satisfied: protobuf<=4.21.12,>=4.21.1 in /home/clara/.local/lib/python3.10/site-packages (from mysql-connector-python) (4.21.12)\n"
     ]
    }
   ],
   "source": [
    "! pip install mysql-connector-python\n"
   ]
  },
  {
   "cell_type": "code",
   "execution_count": 2,
   "metadata": {},
   "outputs": [
    {
     "name": "stdout",
     "output_type": "stream",
     "text": [
      "Defaulting to user installation because normal site-packages is not writeable\n",
      "Requirement already satisfied: pymysql in /home/clara/.local/lib/python3.10/site-packages (1.1.0)\n"
     ]
    }
   ],
   "source": [
    "! pip install pymysql"
   ]
  },
  {
   "cell_type": "code",
   "execution_count": 3,
   "metadata": {},
   "outputs": [],
   "source": [
    "import pymysql\n",
    "import pandas as pd\n",
    "import warnings\n",
    "from IPython.display import display, Markdown"
   ]
  },
  {
   "cell_type": "code",
   "execution_count": 4,
   "metadata": {},
   "outputs": [],
   "source": [
    "def exibir_markdown(texto_md):\n",
    "    display(Markdown(texto_md))"
   ]
  },
  {
   "cell_type": "code",
   "execution_count": 5,
   "metadata": {},
   "outputs": [],
   "source": [
    "# DESATIVAR ALERTAS\n",
    "warnings.filterwarnings('ignore')"
   ]
  },
  {
   "cell_type": "code",
   "execution_count": 6,
   "metadata": {},
   "outputs": [],
   "source": [
    "import mysql.connector\n"
   ]
  },
  {
   "cell_type": "code",
   "execution_count": 7,
   "metadata": {},
   "outputs": [],
   "source": [
    "try:\n",
    "  conn = pymysql.connect( user= 'root',\n",
    "                             host= '127.0.0.1',\n",
    "                             port= 8080,\n",
    "                             password= '123456',\n",
    "                             database= 'LOJINHA')\n",
    "except pymysql.Error as e:\n",
    "  print('Erro ao se conectar: ', e)"
   ]
  },
  {
   "cell_type": "code",
   "execution_count": 8,
   "metadata": {},
   "outputs": [],
   "source": [
    "cursor = conn.cursor()\n"
   ]
  },
  {
   "cell_type": "code",
   "execution_count": 9,
   "metadata": {},
   "outputs": [
    {
     "data": {
      "text/plain": [
       "'admin_user_query = \"CREATE USER \\'clara\\'@\\'%\\' IDENTIFIED BY \\'senhacerta\\';\"\\ngrant_privileges_query = \"GRANT ALL PRIVILEGES ON LOJINHA.* TO \\'clara\\'@\\'%\\';\"\\n\\ncursor.execute(admin_user_query)\\ncursor.execute(grant_privileges_query)\\n\\n# Certifique-se de aplicar as alterações\\nconn.commit()\\n'"
      ]
     },
     "execution_count": 9,
     "metadata": {},
     "output_type": "execute_result"
    }
   ],
   "source": [
    "\"\"\"admin_user_query = \"CREATE USER 'clara'@'%' IDENTIFIED BY 'senhacerta';\"\n",
    "grant_privileges_query = \"GRANT ALL PRIVILEGES ON LOJINHA.* TO 'clara'@'%';\"\n",
    "\n",
    "cursor.execute(admin_user_query)\n",
    "cursor.execute(grant_privileges_query)\n",
    "\n",
    "# Certifique-se de aplicar as alterações\n",
    "conn.commit()\n",
    "\"\"\""
   ]
  },
  {
   "cell_type": "code",
   "execution_count": 10,
   "metadata": {},
   "outputs": [
    {
     "data": {
      "text/plain": [
       "'user_query = \"CREATE USER \\'user\\'@\\'%\\' IDENTIFIED BY \\'user_password\\';\"\\ngrant_select_query = \"GRANT SELECT ON LOJINHA.* TO \\'user\\'@\\'%\\';\"\\n\\ncursor.execute(user_query)\\ncursor.execute(grant_select_query)\\n\\n# Certifique-se de aplicar as alterações\\nconn.commit()'"
      ]
     },
     "execution_count": 10,
     "metadata": {},
     "output_type": "execute_result"
    }
   ],
   "source": [
    "\"\"\"user_query = \"CREATE USER 'user'@'%' IDENTIFIED BY 'user_password';\"\n",
    "grant_select_query = \"GRANT SELECT ON LOJINHA.* TO 'user'@'%';\"\n",
    "\n",
    "cursor.execute(user_query)\n",
    "cursor.execute(grant_select_query)\n",
    "\n",
    "# Certifique-se de aplicar as alterações\n",
    "conn.commit()\"\"\"\n"
   ]
  },
  {
   "cell_type": "code",
   "execution_count": 11,
   "metadata": {},
   "outputs": [],
   "source": [
    "drop_exists_cliente_produto = 'DROP TABLE IF EXISTS cliente_produto'\n",
    "drop_exists_diretor_responsavel = 'DROP TABLE IF EXISTS diretor_responsavel'\n",
    "drop_exists_categoria = 'DROP TABLE IF EXISTS categoria'\n",
    "drop_exists_produto = 'DROP TABLE IF EXISTS produto'\n",
    "drop_exists_tipo_cliente = 'DROP TABLE IF EXISTS tipo_cliente'\n",
    "drop_exists_cliente = 'DROP TABLE IF EXISTS cliente'\n"
   ]
  },
  {
   "cell_type": "code",
   "execution_count": 12,
   "metadata": {},
   "outputs": [
    {
     "data": {
      "text/plain": [
       "0"
      ]
     },
     "execution_count": 12,
     "metadata": {},
     "output_type": "execute_result"
    }
   ],
   "source": [
    "cursor.execute(drop_exists_cliente_produto)\n",
    "cursor.execute(drop_exists_cliente)\n",
    "cursor.execute(drop_exists_tipo_cliente)\n",
    "cursor.execute(drop_exists_produto)\n",
    "cursor.execute(drop_exists_categoria)\n",
    "cursor.execute(drop_exists_diretor_responsavel)\n",
    "\n"
   ]
  },
  {
   "cell_type": "markdown",
   "metadata": {},
   "source": [
    "Sem normalizações "
   ]
  },
  {
   "cell_type": "code",
   "execution_count": 13,
   "metadata": {},
   "outputs": [
    {
     "data": {
      "text/plain": [
       "\"ddl_cliente = ('''\\n    CREATE TABLE IF NOT EXISTS cliente (\\n        codigo_cliente INT AUTO_INCREMENT PRIMARY KEY,\\n        nome_cliente VARCHAR(255) NOT NULL,\\n        sobrenome_cliente VARCHAR(255) NOT NULL,\\n        telefones_cliente VARCHAR(255),\\n        municipio_cliente VARCHAR(255),\\n        codigo_tipo_cliente INT,\\n        tipo_cliente VARCHAR(255)\\n    )\\n''')\""
      ]
     },
     "execution_count": 13,
     "metadata": {},
     "output_type": "execute_result"
    }
   ],
   "source": [
    "\"\"\"ddl_cliente = ('''\n",
    "    CREATE TABLE IF NOT EXISTS cliente (\n",
    "        codigo_cliente INT AUTO_INCREMENT PRIMARY KEY,\n",
    "        nome_cliente VARCHAR(255) NOT NULL,\n",
    "        sobrenome_cliente VARCHAR(255) NOT NULL,\n",
    "        telefones_cliente VARCHAR(255),\n",
    "        municipio_cliente VARCHAR(255),\n",
    "        codigo_tipo_cliente INT,\n",
    "        tipo_cliente VARCHAR(255)\n",
    "    )\n",
    "''')\"\"\""
   ]
  },
  {
   "cell_type": "code",
   "execution_count": 14,
   "metadata": {},
   "outputs": [
    {
     "data": {
      "text/plain": [
       "\"ddl_produto = ('''\\n    CREATE TABLE IF NOT EXISTS produto (\\n        codigo_produto INT AUTO_INCREMENT PRIMARY KEY,\\n        nome_produto VARCHAR(255) NOT NULL,\\n        descricao_produto TEXT,\\n        codigo_tipo_produto INT,\\n        tipo_produto VARCHAR(255),\\n        codigo_diretor_responsavel INT,\\n        nome_diretor_responsavel VARCHAR(255),\\n        email_diretor_responsavel VARCHAR(255)\\n    )\\n''')\""
      ]
     },
     "execution_count": 14,
     "metadata": {},
     "output_type": "execute_result"
    }
   ],
   "source": [
    "\"\"\"ddl_produto = ('''\n",
    "    CREATE TABLE IF NOT EXISTS produto (\n",
    "        codigo_produto INT AUTO_INCREMENT PRIMARY KEY,\n",
    "        nome_produto VARCHAR(255) NOT NULL,\n",
    "        descricao_produto TEXT,\n",
    "        codigo_tipo_produto INT,\n",
    "        tipo_produto VARCHAR(255),\n",
    "        codigo_diretor_responsavel INT,\n",
    "        nome_diretor_responsavel VARCHAR(255),\n",
    "        email_diretor_responsavel VARCHAR(255)\n",
    "    )\n",
    "''')\"\"\""
   ]
  },
  {
   "cell_type": "markdown",
   "metadata": {},
   "source": [
    "Normalização"
   ]
  },
  {
   "cell_type": "code",
   "execution_count": 15,
   "metadata": {},
   "outputs": [],
   "source": [
    "ddl_tipo_cliente = (\"\"\"\n",
    "    CREATE TABLE IF NOT EXISTS tipo_cliente (\n",
    "        codigo_tipo_cliente INT AUTO_INCREMENT PRIMARY KEY,\n",
    "        tipo_cliente VARCHAR(255)\n",
    "    );\n",
    "\"\"\")\n"
   ]
  },
  {
   "cell_type": "code",
   "execution_count": 16,
   "metadata": {},
   "outputs": [
    {
     "data": {
      "text/plain": [
       "0"
      ]
     },
     "execution_count": 16,
     "metadata": {},
     "output_type": "execute_result"
    }
   ],
   "source": [
    "cursor.execute(ddl_tipo_cliente)"
   ]
  },
  {
   "cell_type": "code",
   "execution_count": 17,
   "metadata": {},
   "outputs": [],
   "source": [
    "ddl_cliente = ('''\n",
    "    CREATE TABLE IF NOT EXISTS cliente (\n",
    "        codigo_cliente INT AUTO_INCREMENT PRIMARY KEY,\n",
    "        nome_cliente VARCHAR(255) NOT NULL,\n",
    "        sobrenome_cliente VARCHAR(255) NOT NULL,\n",
    "        tipo_cliente INT, \n",
    "        telefones_cliente VARCHAR(255),\n",
    "        municipio_cliente VARCHAR(255),\n",
    "        FOREIGN KEY (tipo_cliente) REFERENCES tipo_cliente(codigo_tipo_cliente) ON DELETE CASCADE\n",
    "    );\n",
    "''')"
   ]
  },
  {
   "cell_type": "code",
   "execution_count": 18,
   "metadata": {},
   "outputs": [
    {
     "data": {
      "text/plain": [
       "0"
      ]
     },
     "execution_count": 18,
     "metadata": {},
     "output_type": "execute_result"
    }
   ],
   "source": [
    "cursor.execute(ddl_cliente)"
   ]
  },
  {
   "cell_type": "code",
   "execution_count": 19,
   "metadata": {},
   "outputs": [],
   "source": [
    "ddl_diretor_responsavel = (\"\"\"\n",
    "    CREATE TABLE IF NOT EXISTS diretor_responsavel (\n",
    "        codigo_diretor_responsavel INT AUTO_INCREMENT PRIMARY KEY,\n",
    "        nome_diretor_responsavel VARCHAR(255),\n",
    "        email_diretor_responsavel VARCHAR(255)\n",
    "    );\n",
    "\n",
    "        \"\"\")\n"
   ]
  },
  {
   "cell_type": "code",
   "execution_count": 20,
   "metadata": {},
   "outputs": [
    {
     "data": {
      "text/plain": [
       "0"
      ]
     },
     "execution_count": 20,
     "metadata": {},
     "output_type": "execute_result"
    }
   ],
   "source": [
    "cursor.execute(ddl_diretor_responsavel)"
   ]
  },
  {
   "cell_type": "code",
   "execution_count": 21,
   "metadata": {},
   "outputs": [],
   "source": [
    "ddl_categoria = ('''\n",
    "    CREATE TABLE IF NOT EXISTS categoria (\n",
    "        codigo_categoria INT AUTO_INCREMENT PRIMARY KEY,\n",
    "        codigo_diretor_responsavel INT,\n",
    "        tipo_produto VARCHAR(255),\n",
    "        FOREIGN KEY (codigo_diretor_responsavel) REFERENCES diretor_responsavel(codigo_diretor_responsavel) ON DELETE CASCADE\n",
    "    );\n",
    "''')"
   ]
  },
  {
   "cell_type": "code",
   "execution_count": 22,
   "metadata": {},
   "outputs": [
    {
     "data": {
      "text/plain": [
       "0"
      ]
     },
     "execution_count": 22,
     "metadata": {},
     "output_type": "execute_result"
    }
   ],
   "source": [
    "cursor.execute(ddl_categoria)"
   ]
  },
  {
   "cell_type": "code",
   "execution_count": 23,
   "metadata": {},
   "outputs": [],
   "source": [
    "ddl_produto = ('''\n",
    "    CREATE TABLE IF NOT EXISTS produto (\n",
    "        codigo_produto INT AUTO_INCREMENT PRIMARY KEY,\n",
    "        nome_produto VARCHAR(255) NOT NULL,\n",
    "        descricao_produto TEXT,\n",
    "        codigo_categoria INT,\n",
    "        valor DECIMAL(10, 2) NOT NULL DEFAULT 0.00,\n",
    "        FOREIGN KEY (codigo_categoria) REFERENCES categoria(codigo_categoria) ON DELETE CASCADE\n",
    "    );\n",
    "''')\n"
   ]
  },
  {
   "cell_type": "code",
   "execution_count": 24,
   "metadata": {},
   "outputs": [
    {
     "data": {
      "text/plain": [
       "0"
      ]
     },
     "execution_count": 24,
     "metadata": {},
     "output_type": "execute_result"
    }
   ],
   "source": [
    "cursor.execute(ddl_produto)"
   ]
  },
  {
   "cell_type": "code",
   "execution_count": 25,
   "metadata": {},
   "outputs": [],
   "source": [
    "conn.commit()"
   ]
  },
  {
   "cell_type": "code",
   "execution_count": 26,
   "metadata": {},
   "outputs": [],
   "source": [
    "ddl_cliente_produto = ('''\n",
    "    CREATE TABLE IF NOT EXISTS cliente_produto (\n",
    "        codigo_cliente INT,\n",
    "        codigo_produto INT,\n",
    "        PRIMARY KEY (codigo_cliente, codigo_produto),\n",
    "        FOREIGN KEY (codigo_cliente) REFERENCES cliente(codigo_cliente) ON DELETE CASCADE,\n",
    "        FOREIGN KEY (codigo_produto) REFERENCES produto(codigo_produto) ON DELETE CASCADE\n",
    "    );\n",
    "''')\n"
   ]
  },
  {
   "cell_type": "code",
   "execution_count": 27,
   "metadata": {},
   "outputs": [],
   "source": [
    "cursor.execute(ddl_cliente_produto)\n",
    "\n",
    "conn.commit()\n"
   ]
  },
  {
   "cell_type": "code",
   "execution_count": 28,
   "metadata": {},
   "outputs": [],
   "source": [
    "dml_insert_diretor_responsavel = (\"\"\"\n",
    "    INSERT INTO diretor_responsavel (nome_diretor_responsavel, email_diretor_responsavel) VALUES\n",
    "        ('João Silva', 'joao.silva@bancoclara.com'),\n",
    "        ('Maria Santos', 'maria.santos@bancoclara.com'),\n",
    "        ('Pedro Alves', 'pedro.alves@bancoclara.com');\n",
    "\"\"\")\n"
   ]
  },
  {
   "cell_type": "code",
   "execution_count": 29,
   "metadata": {},
   "outputs": [
    {
     "data": {
      "text/plain": [
       "3"
      ]
     },
     "execution_count": 29,
     "metadata": {},
     "output_type": "execute_result"
    }
   ],
   "source": [
    "cursor.execute(dml_insert_diretor_responsavel)"
   ]
  },
  {
   "cell_type": "code",
   "execution_count": 30,
   "metadata": {},
   "outputs": [],
   "source": [
    "ddl_insert_categorias_joao_silva = (\"\"\" \n",
    "INSERT INTO categoria (codigo_diretor_responsavel, tipo_produto) VALUES\n",
    "    (1, 'Conta Corrente'),\n",
    "    (1, 'Empréstimos Pessoais'),\n",
    "    (1, 'Investimentos em Renda Fixa');\n",
    "\"\"\")"
   ]
  },
  {
   "cell_type": "code",
   "execution_count": 31,
   "metadata": {},
   "outputs": [
    {
     "data": {
      "text/plain": [
       "3"
      ]
     },
     "execution_count": 31,
     "metadata": {},
     "output_type": "execute_result"
    }
   ],
   "source": [
    "cursor.execute(ddl_insert_categorias_joao_silva)"
   ]
  },
  {
   "cell_type": "code",
   "execution_count": 32,
   "metadata": {},
   "outputs": [],
   "source": [
    "ddl_insert_categorias_maria_santos = (\"\"\"\n",
    "INSERT INTO categoria (codigo_diretor_responsavel, tipo_produto) VALUES\n",
    "    (2, 'Cartões de Crédito'),\n",
    "    (2, 'Seguros de Vida');\n",
    "\"\"\")"
   ]
  },
  {
   "cell_type": "code",
   "execution_count": 33,
   "metadata": {},
   "outputs": [
    {
     "data": {
      "text/plain": [
       "2"
      ]
     },
     "execution_count": 33,
     "metadata": {},
     "output_type": "execute_result"
    }
   ],
   "source": [
    "cursor.execute(ddl_insert_categorias_maria_santos)"
   ]
  },
  {
   "cell_type": "code",
   "execution_count": 34,
   "metadata": {},
   "outputs": [],
   "source": [
    "ddl_insert_categorias_pedro_alves = (\"\"\"\n",
    "INSERT INTO categoria (codigo_diretor_responsavel, tipo_produto) VALUES\n",
    "    (3, 'Internet Banking'),\n",
    "    (3, 'Pagamentos Eletrônicos'),\n",
    "    (3, 'Crédito Imobiliário');\n",
    "\"\"\")"
   ]
  },
  {
   "cell_type": "code",
   "execution_count": 35,
   "metadata": {},
   "outputs": [
    {
     "data": {
      "text/plain": [
       "3"
      ]
     },
     "execution_count": 35,
     "metadata": {},
     "output_type": "execute_result"
    }
   ],
   "source": [
    "cursor.execute(ddl_insert_categorias_pedro_alves)"
   ]
  },
  {
   "cell_type": "code",
   "execution_count": 36,
   "metadata": {},
   "outputs": [],
   "source": [
    "dml_insert_produto = \"\"\"INSERT INTO produto (nome_produto, descricao_produto, codigo_categoria, valor) VALUES\n",
    "                      ('Conta Corrente Básica', 'Conta corrente para uso diário', 1, 0.00),\n",
    "                      ('Conta Corrente Premium', 'Conta corrente com benefícios exclusivos', 1, 10.99),\n",
    "                      ('Empréstimo Pessoal P1', 'Empréstimo pessoal de curto prazo', 2, 5000.00),\n",
    "                      ('Empréstimo Pessoal P2', 'Empréstimo pessoal de longo prazo', 2, 10000.00),\n",
    "                      ('Investimento em Renda Fixa A', 'Investimento de baixo risco', 3, 1000.00),\n",
    "                      ('Investimento em Renda Fixa B', 'Investimento de médio risco', 3, 5000.00),\n",
    "                      ('Cartão de Crédito Silver', 'Cartão de crédito com limite moderado', 4, 0.00),\n",
    "                      ('Cartão de Crédito Gold', 'Cartão de crédito com benefícios premium', 4, 50.00),\n",
    "                      ('Seguro de Vida Básico', 'Seguro de vida com cobertura mínima', 5, 20.00),\n",
    "                      ('Seguro de Vida Premium', 'Seguro de vida com cobertura ampla', 5, 50.00),\n",
    "                      ('Internet Banking App', 'Aplicativo de Internet Banking', 6, 0.00),\n",
    "                      ('Pagamentos Eletrônicos', 'Sistema de pagamentos online', 7, 0.00),\n",
    "                      ('Crédito Imobiliário A', 'Crédito para compra de imóveis', 8, 100000.00),\n",
    "                      ('Crédito Imobiliário B', 'Crédito para construção de imóveis', 8, 150000.00),\n",
    "                      ('Investimento em Renda Fixa C', 'Investimento de baixo risco', 3, 10000.00),\n",
    "                      ('Cartão de Crédito Platinum', 'Cartão de crédito com benefícios exclusivos', 4, 100.00),\n",
    "                      ('Seguro de Vida Premium Plus', 'Seguro de vida com cobertura ampla e extras', 5, 80.00),\n",
    "                      ('Internet Banking Website', 'Plataforma de Internet Banking', 6, 0.00),\n",
    "                      ('Crédito Imobiliário C', 'Crédito para compra de imóveis de luxo', 8, 300000.00);\n",
    "\n",
    "                   \n",
    "\"\"\"\n"
   ]
  },
  {
   "cell_type": "code",
   "execution_count": 37,
   "metadata": {},
   "outputs": [
    {
     "data": {
      "text/plain": [
       "19"
      ]
     },
     "execution_count": 37,
     "metadata": {},
     "output_type": "execute_result"
    }
   ],
   "source": [
    "cursor.execute(dml_insert_produto)"
   ]
  },
  {
   "cell_type": "code",
   "execution_count": 38,
   "metadata": {},
   "outputs": [],
   "source": [
    "dml_insert_produto_sem_categoria = \"\"\"INSERT INTO produto (nome_produto, descricao_produto, valor) VALUES\n",
    "                    ('Seguro de Carro', 'Seguro de carro com cobertura mínima', 200.00),\n",
    "                    ('Seguro de Carro Plus', 'Seguro de vida com cobertura ampla', 500.00);\"\"\""
   ]
  },
  {
   "cell_type": "code",
   "execution_count": 39,
   "metadata": {},
   "outputs": [
    {
     "data": {
      "text/plain": [
       "2"
      ]
     },
     "execution_count": 39,
     "metadata": {},
     "output_type": "execute_result"
    }
   ],
   "source": [
    "cursor.execute(dml_insert_produto_sem_categoria)"
   ]
  },
  {
   "cell_type": "code",
   "execution_count": 40,
   "metadata": {},
   "outputs": [],
   "source": [
    "dml_insert_tipos_cliente = \"\"\"\n",
    "INSERT INTO tipo_cliente (tipo_cliente) VALUES\n",
    "    ('Pessoa Física'),\n",
    "    ('Pessoa Jurídica'),\n",
    "    ('Conta Conjunta');\n",
    "\"\"\"\n"
   ]
  },
  {
   "cell_type": "code",
   "execution_count": 41,
   "metadata": {},
   "outputs": [
    {
     "data": {
      "text/plain": [
       "3"
      ]
     },
     "execution_count": 41,
     "metadata": {},
     "output_type": "execute_result"
    }
   ],
   "source": [
    "cursor.execute(dml_insert_tipos_cliente)"
   ]
  },
  {
   "cell_type": "code",
   "execution_count": 42,
   "metadata": {},
   "outputs": [],
   "source": [
    "dml_insert_cliente = \"\"\" \n",
    "INSERT INTO cliente (nome_cliente, sobrenome_cliente, tipo_cliente, telefones_cliente, municipio_cliente) VALUES\n",
    "    ('João', 'Silva', 1, '123-456-7890', 'São Paulo'),\n",
    "    ('Maria', 'Santos', 1, '987-654-3210', 'Rio de Janeiro'),\n",
    "    ('Pedro', 'Alves', 1, '555-555-5555', 'Belo Horizonte'),\n",
    "    ('Ana', 'Rodrigues', 1, '111-222-3333', 'Porto Alegre'),\n",
    "    ('Luiz', 'Gomes', 1, '444-444-4444', 'Recife'),\n",
    "    ('Mariana', 'Fernandes', 1, '777-777-7777', 'Brasília'),\n",
    "    ('Rafael', 'Oliveira', 2, '222-333-4444', 'Fortaleza'),\n",
    "    ('Carla', 'Mendes', 2, '999-999-9999', 'Manaus'),\n",
    "    ('Lucas', 'Pereira', 2, '777-888-9999', 'Salvador'),\n",
    "    ('Isabela', 'Lima', 2, '666-666-6666', 'Curitiba'),\n",
    "    ('José', 'Dias', 3, '123-321-1234', 'Goiânia'),\n",
    "    ('Fernanda', 'Martins', 3, '987-987-9876', 'Natal'),\n",
    "    ('Gustavo', 'Ferreira', 3, '555-666-7777', 'Florianópolis'),\n",
    "    ('Camila', 'Ramos', 1, '888-888-8888', 'Maceió'),\n",
    "    ('Antônio', 'Cavalcante', 1, '777-555-4444', 'Vitória'),\n",
    "    ('Patrícia', 'Costa', 2, '123-555-9999', 'Porto Velho'),\n",
    "    ('Roberto', 'Sousa', 2, '333-444-5555', 'Teresina'),\n",
    "    ('Amanda', 'Oliveira', 3, '111-222-3333', 'João Pessoa'),\n",
    "    ('Ricardo', 'Silveira', 3, '444-333-2222', 'Cuiabá'),\n",
    "    ('Larissa', 'Fernandes', 1, '777-999-5555', 'Aracaju'),\n",
    "    ('Marcelo', 'Carvalho', 1, '666-777-8888', 'Campo Grande'),\n",
    "    ('Sandra', 'Gonçalves', 1, '555-666-7777', 'Boa Vista'),\n",
    "    ('Carlos', 'Santana', 2, '222-333-4444', 'Palmas'),\n",
    "    ('Tatiana', 'Mendes', 2, '999-888-7777', 'Porto Alegre'),\n",
    "    ('Fábio', 'Ribeiro', 2, '111-222-3333', 'São Luís'),\n",
    "    ('Vanessa', 'Lima', 1, '555-444-3333', 'Manaus'),\n",
    "    ('Eduardo', 'Oliveira', 1, '777-777-7777', 'Salvador'),\n",
    "    ('Márcia', 'Sousa', 1, '123-123-1234', 'Goiânia'),\n",
    "    ('Paulo', 'Ferreira', 1, '777-888-9999', 'Natal'),\n",
    "    ('Cristina', 'Costa', 2, '666-555-4444', 'Florianópolis'),\n",
    "    ('Raul', 'Santos', 2, '333-222-1111', 'João Pessoa'),\n",
    "    ('Lívia', 'Oliveira', 3, '888-888-8888', 'Belém'),\n",
    "    ('Mateus', 'Carvalho', 3, '999-999-9999', 'Maceió'),\n",
    "    ('Fernando', 'Gonçalves', 1, '111-111-1111', 'Aracaju'),\n",
    "    ('Sônia', 'Santos', 1, '444-555-6666', 'Palmas'),\n",
    "    ('Alberto', 'Lima', 1, '333-333-3333', 'Cuiabá'),\n",
    "    ('Aline', 'Oliveira', 2, '111-222-3333', 'Porto Velho'),\n",
    "    ('Milton', 'Sousa', 2, '555-555-5555', 'Teresina');\n",
    "\"\"\"\n"
   ]
  },
  {
   "cell_type": "code",
   "execution_count": 43,
   "metadata": {},
   "outputs": [
    {
     "data": {
      "text/plain": [
       "38"
      ]
     },
     "execution_count": 43,
     "metadata": {},
     "output_type": "execute_result"
    }
   ],
   "source": [
    "cursor.execute(dml_insert_cliente)\n"
   ]
  },
  {
   "cell_type": "code",
   "execution_count": 44,
   "metadata": {},
   "outputs": [],
   "source": [
    "ddl_view_produtos = '''\n",
    "    CREATE VIEW produtos_maior_que_100 AS\n",
    "    SELECT nome_produto AS Produto, valor AS Valor\n",
    "    FROM produto\n",
    "    WHERE valor > 100\n",
    "    ORDER BY valor, nome_produto;\n",
    "'''"
   ]
  },
  {
   "cell_type": "code",
   "execution_count": 45,
   "metadata": {},
   "outputs": [
    {
     "ename": "OperationalError",
     "evalue": "(1050, \"Table 'produtos_maior_que_100' already exists\")",
     "output_type": "error",
     "traceback": [
      "\u001b[0;31m---------------------------------------------------------------------------\u001b[0m",
      "\u001b[0;31mOperationalError\u001b[0m                          Traceback (most recent call last)",
      "Cell \u001b[0;32mIn[45], line 1\u001b[0m\n\u001b[0;32m----> 1\u001b[0m cursor\u001b[39m.\u001b[39;49mexecute(ddl_view_produtos)\n",
      "File \u001b[0;32m~/.local/lib/python3.10/site-packages/pymysql/cursors.py:153\u001b[0m, in \u001b[0;36mCursor.execute\u001b[0;34m(self, query, args)\u001b[0m\n\u001b[1;32m    149\u001b[0m     \u001b[39mpass\u001b[39;00m\n\u001b[1;32m    151\u001b[0m query \u001b[39m=\u001b[39m \u001b[39mself\u001b[39m\u001b[39m.\u001b[39mmogrify(query, args)\n\u001b[0;32m--> 153\u001b[0m result \u001b[39m=\u001b[39m \u001b[39mself\u001b[39;49m\u001b[39m.\u001b[39;49m_query(query)\n\u001b[1;32m    154\u001b[0m \u001b[39mself\u001b[39m\u001b[39m.\u001b[39m_executed \u001b[39m=\u001b[39m query\n\u001b[1;32m    155\u001b[0m \u001b[39mreturn\u001b[39;00m result\n",
      "File \u001b[0;32m~/.local/lib/python3.10/site-packages/pymysql/cursors.py:322\u001b[0m, in \u001b[0;36mCursor._query\u001b[0;34m(self, q)\u001b[0m\n\u001b[1;32m    320\u001b[0m conn \u001b[39m=\u001b[39m \u001b[39mself\u001b[39m\u001b[39m.\u001b[39m_get_db()\n\u001b[1;32m    321\u001b[0m \u001b[39mself\u001b[39m\u001b[39m.\u001b[39m_clear_result()\n\u001b[0;32m--> 322\u001b[0m conn\u001b[39m.\u001b[39;49mquery(q)\n\u001b[1;32m    323\u001b[0m \u001b[39mself\u001b[39m\u001b[39m.\u001b[39m_do_get_result()\n\u001b[1;32m    324\u001b[0m \u001b[39mreturn\u001b[39;00m \u001b[39mself\u001b[39m\u001b[39m.\u001b[39mrowcount\n",
      "File \u001b[0;32m~/.local/lib/python3.10/site-packages/pymysql/connections.py:558\u001b[0m, in \u001b[0;36mConnection.query\u001b[0;34m(self, sql, unbuffered)\u001b[0m\n\u001b[1;32m    556\u001b[0m     sql \u001b[39m=\u001b[39m sql\u001b[39m.\u001b[39mencode(\u001b[39mself\u001b[39m\u001b[39m.\u001b[39mencoding, \u001b[39m\"\u001b[39m\u001b[39msurrogateescape\u001b[39m\u001b[39m\"\u001b[39m)\n\u001b[1;32m    557\u001b[0m \u001b[39mself\u001b[39m\u001b[39m.\u001b[39m_execute_command(COMMAND\u001b[39m.\u001b[39mCOM_QUERY, sql)\n\u001b[0;32m--> 558\u001b[0m \u001b[39mself\u001b[39m\u001b[39m.\u001b[39m_affected_rows \u001b[39m=\u001b[39m \u001b[39mself\u001b[39;49m\u001b[39m.\u001b[39;49m_read_query_result(unbuffered\u001b[39m=\u001b[39;49munbuffered)\n\u001b[1;32m    559\u001b[0m \u001b[39mreturn\u001b[39;00m \u001b[39mself\u001b[39m\u001b[39m.\u001b[39m_affected_rows\n",
      "File \u001b[0;32m~/.local/lib/python3.10/site-packages/pymysql/connections.py:822\u001b[0m, in \u001b[0;36mConnection._read_query_result\u001b[0;34m(self, unbuffered)\u001b[0m\n\u001b[1;32m    820\u001b[0m \u001b[39melse\u001b[39;00m:\n\u001b[1;32m    821\u001b[0m     result \u001b[39m=\u001b[39m MySQLResult(\u001b[39mself\u001b[39m)\n\u001b[0;32m--> 822\u001b[0m     result\u001b[39m.\u001b[39;49mread()\n\u001b[1;32m    823\u001b[0m \u001b[39mself\u001b[39m\u001b[39m.\u001b[39m_result \u001b[39m=\u001b[39m result\n\u001b[1;32m    824\u001b[0m \u001b[39mif\u001b[39;00m result\u001b[39m.\u001b[39mserver_status \u001b[39mis\u001b[39;00m \u001b[39mnot\u001b[39;00m \u001b[39mNone\u001b[39;00m:\n",
      "File \u001b[0;32m~/.local/lib/python3.10/site-packages/pymysql/connections.py:1200\u001b[0m, in \u001b[0;36mMySQLResult.read\u001b[0;34m(self)\u001b[0m\n\u001b[1;32m   1198\u001b[0m \u001b[39mdef\u001b[39;00m \u001b[39mread\u001b[39m(\u001b[39mself\u001b[39m):\n\u001b[1;32m   1199\u001b[0m     \u001b[39mtry\u001b[39;00m:\n\u001b[0;32m-> 1200\u001b[0m         first_packet \u001b[39m=\u001b[39m \u001b[39mself\u001b[39;49m\u001b[39m.\u001b[39;49mconnection\u001b[39m.\u001b[39;49m_read_packet()\n\u001b[1;32m   1202\u001b[0m         \u001b[39mif\u001b[39;00m first_packet\u001b[39m.\u001b[39mis_ok_packet():\n\u001b[1;32m   1203\u001b[0m             \u001b[39mself\u001b[39m\u001b[39m.\u001b[39m_read_ok_packet(first_packet)\n",
      "File \u001b[0;32m~/.local/lib/python3.10/site-packages/pymysql/connections.py:772\u001b[0m, in \u001b[0;36mConnection._read_packet\u001b[0;34m(self, packet_type)\u001b[0m\n\u001b[1;32m    770\u001b[0m     \u001b[39mif\u001b[39;00m \u001b[39mself\u001b[39m\u001b[39m.\u001b[39m_result \u001b[39mis\u001b[39;00m \u001b[39mnot\u001b[39;00m \u001b[39mNone\u001b[39;00m \u001b[39mand\u001b[39;00m \u001b[39mself\u001b[39m\u001b[39m.\u001b[39m_result\u001b[39m.\u001b[39munbuffered_active \u001b[39mis\u001b[39;00m \u001b[39mTrue\u001b[39;00m:\n\u001b[1;32m    771\u001b[0m         \u001b[39mself\u001b[39m\u001b[39m.\u001b[39m_result\u001b[39m.\u001b[39munbuffered_active \u001b[39m=\u001b[39m \u001b[39mFalse\u001b[39;00m\n\u001b[0;32m--> 772\u001b[0m     packet\u001b[39m.\u001b[39;49mraise_for_error()\n\u001b[1;32m    773\u001b[0m \u001b[39mreturn\u001b[39;00m packet\n",
      "File \u001b[0;32m~/.local/lib/python3.10/site-packages/pymysql/protocol.py:221\u001b[0m, in \u001b[0;36mMysqlPacket.raise_for_error\u001b[0;34m(self)\u001b[0m\n\u001b[1;32m    219\u001b[0m \u001b[39mif\u001b[39;00m DEBUG:\n\u001b[1;32m    220\u001b[0m     \u001b[39mprint\u001b[39m(\u001b[39m\"\u001b[39m\u001b[39merrno =\u001b[39m\u001b[39m\"\u001b[39m, errno)\n\u001b[0;32m--> 221\u001b[0m err\u001b[39m.\u001b[39;49mraise_mysql_exception(\u001b[39mself\u001b[39;49m\u001b[39m.\u001b[39;49m_data)\n",
      "File \u001b[0;32m~/.local/lib/python3.10/site-packages/pymysql/err.py:143\u001b[0m, in \u001b[0;36mraise_mysql_exception\u001b[0;34m(data)\u001b[0m\n\u001b[1;32m    141\u001b[0m \u001b[39mif\u001b[39;00m errorclass \u001b[39mis\u001b[39;00m \u001b[39mNone\u001b[39;00m:\n\u001b[1;32m    142\u001b[0m     errorclass \u001b[39m=\u001b[39m InternalError \u001b[39mif\u001b[39;00m errno \u001b[39m<\u001b[39m \u001b[39m1000\u001b[39m \u001b[39melse\u001b[39;00m OperationalError\n\u001b[0;32m--> 143\u001b[0m \u001b[39mraise\u001b[39;00m errorclass(errno, errval)\n",
      "\u001b[0;31mOperationalError\u001b[0m: (1050, \"Table 'produtos_maior_que_100' already exists\")"
     ]
    }
   ],
   "source": [
    "cursor.execute(ddl_view_produtos)"
   ]
  },
  {
   "cell_type": "code",
   "execution_count": null,
   "metadata": {},
   "outputs": [],
   "source": [
    "conn.commit()"
   ]
  },
  {
   "cell_type": "code",
   "execution_count": null,
   "metadata": {},
   "outputs": [],
   "source": [
    "dql_produtos_caros = 'SELECT * FROM produtos_maior_que_100;'\n",
    "\n"
   ]
  },
  {
   "cell_type": "code",
   "execution_count": null,
   "metadata": {},
   "outputs": [
    {
     "data": {
      "text/plain": [
       "8"
      ]
     },
     "execution_count": 77,
     "metadata": {},
     "output_type": "execute_result"
    }
   ],
   "source": [
    "cursor.execute(dql_produtos_caros)"
   ]
  },
  {
   "cell_type": "code",
   "execution_count": null,
   "metadata": {},
   "outputs": [],
   "source": [
    "resultados = cursor.fetchall()"
   ]
  },
  {
   "cell_type": "markdown",
   "metadata": {},
   "source": [
    "criar uma visualização com pandas"
   ]
  },
  {
   "cell_type": "code",
   "execution_count": null,
   "metadata": {},
   "outputs": [
    {
     "name": "stdout",
     "output_type": "stream",
     "text": [
      "('Investimento em Renda Fixa A', Decimal('1000.00'))\n",
      "('Empréstimo Pessoal P1', Decimal('5000.00'))\n",
      "('Investimento em Renda Fixa B', Decimal('5000.00'))\n",
      "('Empréstimo Pessoal P2', Decimal('10000.00'))\n",
      "('Investimento em Renda Fixa C', Decimal('10000.00'))\n",
      "('Crédito Imobiliário A', Decimal('100000.00'))\n",
      "('Crédito Imobiliário B', Decimal('150000.00'))\n",
      "('Crédito Imobiliário C', Decimal('300000.00'))\n"
     ]
    }
   ],
   "source": [
    "for resultado in resultados:\n",
    "    print(resultado)\n"
   ]
  },
  {
   "cell_type": "code",
   "execution_count": null,
   "metadata": {},
   "outputs": [],
   "source": [
    "dql_media_valor = \"\"\"\n",
    "    SELECT codigo_produto, valor FROM produto\n",
    "    WHERE valor > (SELECT AVG(valor) FROM produto);\n",
    "\"\"\""
   ]
  },
  {
   "cell_type": "code",
   "execution_count": null,
   "metadata": {},
   "outputs": [
    {
     "data": {
      "text/plain": [
       "3"
      ]
     },
     "execution_count": 58,
     "metadata": {},
     "output_type": "execute_result"
    }
   ],
   "source": [
    "cursor.execute(dql_media_valor)"
   ]
  },
  {
   "cell_type": "code",
   "execution_count": null,
   "metadata": {},
   "outputs": [],
   "source": [
    "resultados = cursor.fetchall()"
   ]
  },
  {
   "cell_type": "code",
   "execution_count": null,
   "metadata": {},
   "outputs": [
    {
     "name": "stdout",
     "output_type": "stream",
     "text": [
      "(13, Decimal('100000.00'))\n",
      "(14, Decimal('150000.00'))\n",
      "(19, Decimal('300000.00'))\n"
     ]
    }
   ],
   "source": [
    "for resultado in resultados:\n",
    "    print(resultado)"
   ]
  },
  {
   "cell_type": "code",
   "execution_count": 47,
   "metadata": {},
   "outputs": [],
   "source": [
    "dql_media_categoria = \"\"\"\n",
    "SELECT categoria.tipo_produto AS NOME, AVG(produto.valor) as MEDIA FROM produto\n",
    "        INNER JOIN categoria\n",
    "            ON produto.codigo_categoria = categoria.codigo_categoria\n",
    "            GROUP BY categoria.codigo_categoria\n",
    "            ORDER BY categoria.tipo_produto;\n",
    "\"\"\""
   ]
  },
  {
   "cell_type": "code",
   "execution_count": 48,
   "metadata": {},
   "outputs": [
    {
     "data": {
      "text/plain": [
       "8"
      ]
     },
     "execution_count": 48,
     "metadata": {},
     "output_type": "execute_result"
    }
   ],
   "source": [
    "cursor.execute(dql_media_categoria)"
   ]
  },
  {
   "cell_type": "code",
   "execution_count": 49,
   "metadata": {},
   "outputs": [],
   "source": [
    "resultados = cursor.fetchall()"
   ]
  },
  {
   "cell_type": "code",
   "execution_count": 50,
   "metadata": {},
   "outputs": [
    {
     "name": "stdout",
     "output_type": "stream",
     "text": [
      "('Cartões de Crédito', Decimal('50.000000'))\n",
      "('Conta Corrente', Decimal('5.495000'))\n",
      "('Crédito Imobiliário', Decimal('183333.333333'))\n",
      "('Empréstimos Pessoais', Decimal('7500.000000'))\n",
      "('Internet Banking', Decimal('0.000000'))\n",
      "('Investimentos em Renda Fixa', Decimal('5333.333333'))\n",
      "('Pagamentos Eletrônicos', Decimal('0.000000'))\n",
      "('Seguros de Vida', Decimal('50.000000'))\n"
     ]
    }
   ],
   "source": [
    "for resultado in resultados:\n",
    "    print(resultado)"
   ]
  }
 ],
 "metadata": {
  "kernelspec": {
   "display_name": "Python 3",
   "language": "python",
   "name": "python3"
  },
  "language_info": {
   "codemirror_mode": {
    "name": "ipython",
    "version": 3
   },
   "file_extension": ".py",
   "mimetype": "text/x-python",
   "name": "python",
   "nbconvert_exporter": "python",
   "pygments_lexer": "ipython3",
   "version": "3.10.12"
  },
  "orig_nbformat": 4
 },
 "nbformat": 4,
 "nbformat_minor": 2
}
