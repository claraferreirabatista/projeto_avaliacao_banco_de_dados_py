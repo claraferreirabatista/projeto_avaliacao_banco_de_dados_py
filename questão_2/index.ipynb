{
 "cells": [
  {
   "cell_type": "code",
   "execution_count": 1,
   "metadata": {},
   "outputs": [
    {
     "name": "stdout",
     "output_type": "stream",
     "text": [
      "a5c2e92c2b1f35545cafaa882955809f0c25fafba84fc06f31919f59b89bc756\n"
     ]
    }
   ],
   "source": [
    "! docker run --name turminhadb -d -e MYSQL_ROOT_PASSWORD=123456 -e MYSQL_DATABASE=turminha -p 8081:3306 --rm  mysql:8.1.0\n"
   ]
  },
  {
   "cell_type": "code",
   "execution_count": null,
   "metadata": {},
   "outputs": [],
   "source": [
    "! pip install mysql.connector"
   ]
  },
  {
   "cell_type": "code",
   "execution_count": 2,
   "metadata": {},
   "outputs": [],
   "source": [
    "import mysql.connector"
   ]
  },
  {
   "cell_type": "markdown",
   "metadata": {},
   "source": [
    "Não execute tudo, pois o banco leva ao menos 45segundos para iniciar o banco."
   ]
  },
  {
   "cell_type": "code",
   "execution_count": 3,
   "metadata": {},
   "outputs": [],
   "source": [
    "# Função para conectar ao banco de dados\n",
    "def conectar_banco():\n",
    "    try:\n",
    "        connection = mysql.connector.connect(\n",
    "            host='127.0.0.1',    # Se estiver rodando no mesmo host\n",
    "            user='root',\n",
    "            password='123456',\n",
    "            database='turminha',\n",
    "            port=8081           # A porta mapeada para o MySQL no container\n",
    "        )\n",
    "        if connection.is_connected():\n",
    "            print(\"Conexão ao banco de dados MySQL estabelecida com sucesso.\")\n",
    "            return connection\n",
    "    except Exception as e:\n",
    "        print(\"Erro ao conectar ao banco de dados:\", str(e))\n",
    "        return None\n"
   ]
  },
  {
   "cell_type": "code",
   "execution_count": 4,
   "metadata": {},
   "outputs": [
    {
     "name": "stdout",
     "output_type": "stream",
     "text": [
      "Conexão ao banco de dados MySQL estabelecida com sucesso.\n"
     ]
    }
   ],
   "source": [
    "connection = conectar_banco()"
   ]
  },
  {
   "cell_type": "code",
   "execution_count": 5,
   "metadata": {},
   "outputs": [],
   "source": [
    "# Criar tabelas\n",
    "def criar_tabela_aluno(connection):\n",
    "    try:\n",
    "        cursor = connection.cursor()\n",
    "        cursor.execute(\"\"\"\n",
    "            CREATE TABLE IF NOT EXISTS aluno (\n",
    "                id_aluno INT AUTO_INCREMENT PRIMARY KEY,\n",
    "                nome_aluno VARCHAR(255),\n",
    "                aluno_alocado BOOLEAN,\n",
    "                id_turma INT\n",
    "            )\n",
    "        \"\"\")\n",
    "        connection.commit()\n",
    "        print(\"Tabela aluno criada com sucesso.\")\n",
    "    except Exception as e:\n",
    "        print(\"Erro ao criar tabela aluno:\", str(e))\n"
   ]
  },
  {
   "cell_type": "code",
   "execution_count": 6,
   "metadata": {},
   "outputs": [],
   "source": [
    "def criar_tabela_turma(connection):\n",
    "    try:\n",
    "        cursor = connection.cursor()\n",
    "        cursor.execute(\"\"\"\n",
    "            CREATE TABLE IF NOT EXISTS turma (\n",
    "                id_turma INT AUTO_INCREMENT PRIMARY KEY,\n",
    "                codigo_turma VARCHAR(255),\n",
    "                nome_turma VARCHAR(255)\n",
    "            )\n",
    "        \"\"\")\n",
    "        connection.commit()\n",
    "        print(\"Tabela turma criada com sucesso.\")\n",
    "    except Exception as e:\n",
    "        print(\"Erro ao criar tabela turma:\", str(e))\n",
    "\n"
   ]
  },
  {
   "cell_type": "code",
   "execution_count": 7,
   "metadata": {},
   "outputs": [
    {
     "name": "stdout",
     "output_type": "stream",
     "text": [
      "Tabela aluno criada com sucesso.\n",
      "Tabela turma criada com sucesso.\n"
     ]
    }
   ],
   "source": [
    "# Criar as tabelas\n",
    "criar_tabela_aluno(connection)\n",
    "criar_tabela_turma(connection)"
   ]
  },
  {
   "cell_type": "markdown",
   "metadata": {},
   "source": [
    "a) Inserir pelo menos duas turmas diferentes na tabela de turma:"
   ]
  },
  {
   "cell_type": "code",
   "execution_count": 8,
   "metadata": {},
   "outputs": [
    {
     "name": "stdout",
     "output_type": "stream",
     "text": [
      "Turmas inseridas com sucesso.\n"
     ]
    }
   ],
   "source": [
    "def inserir_turmas(connection):\n",
    "    try:\n",
    "        cursor = connection.cursor()\n",
    "        cursor.execute(\"INSERT INTO turma (codigo_turma, nome_turma) VALUES (%s, %s)\", (\"T1\", \"Turma 1\"))\n",
    "        cursor.execute(\"INSERT INTO turma (codigo_turma, nome_turma) VALUES (%s, %s)\", (\"T2\", \"Turma 2\"))\n",
    "        connection.commit()\n",
    "        print(\"Turmas inseridas com sucesso.\")\n",
    "    except Exception as e:\n",
    "        print(\"Erro ao inserir turmas:\", str(e))\n",
    "\n",
    "# Chamando a função para inserir turmas\n",
    "inserir_turmas(connection)\n"
   ]
  },
  {
   "cell_type": "markdown",
   "metadata": {},
   "source": [
    "b) Inserir pelo menos 1 aluno alocado em cada uma destas turmas na tabela aluno (todos com NULL na coluna aluno_alocado):"
   ]
  },
  {
   "cell_type": "code",
   "execution_count": 9,
   "metadata": {},
   "outputs": [
    {
     "name": "stdout",
     "output_type": "stream",
     "text": [
      "Alunos inseridos com sucesso.\n"
     ]
    }
   ],
   "source": [
    "def inserir_alunos(connection):\n",
    "    try:\n",
    "        cursor = connection.cursor()\n",
    "        cursor.execute(\"INSERT INTO aluno (nome_aluno, aluno_alocado, id_turma) VALUES (%s, NULL, %s)\", (\"Aluno 1\", 1))\n",
    "        cursor.execute(\"INSERT INTO aluno (nome_aluno, aluno_alocado, id_turma) VALUES (%s, NULL, %s)\", (\"Aluno 2\", 2))\n",
    "        connection.commit()\n",
    "        print(\"Alunos inseridos com sucesso.\")\n",
    "    except Exception as e:\n",
    "        print(\"Erro ao inserir alunos:\", str(e))\n",
    "\n",
    "# Chamando a função para inserir alunos\n",
    "inserir_alunos(connection)\n"
   ]
  },
  {
   "cell_type": "markdown",
   "metadata": {},
   "source": [
    "c) Inserir pelo menos 2 alunos não alocados em nenhuma turma na tabela aluno (todos com NULL na coluna aluno_alocado):"
   ]
  },
  {
   "cell_type": "code",
   "execution_count": 10,
   "metadata": {},
   "outputs": [
    {
     "name": "stdout",
     "output_type": "stream",
     "text": [
      "Alunos não alocados inseridos com sucesso.\n"
     ]
    }
   ],
   "source": [
    "def inserir_alunos_nao_alocados(connection):\n",
    "    try:\n",
    "        cursor = connection.cursor()\n",
    "        cursor.execute(\"INSERT INTO aluno (nome_aluno, aluno_alocado) VALUES (%s, NULL)\", (\"Aluno 3\",))\n",
    "        cursor.execute(\"INSERT INTO aluno (nome_aluno, aluno_alocado) VALUES (%s, NULL)\", (\"Aluno 4\",))\n",
    "        connection.commit()\n",
    "        print(\"Alunos não alocados inseridos com sucesso.\")\n",
    "    except Exception as e:\n",
    "        print(\"Erro ao inserir alunos não alocados:\", str(e))\n",
    "\n",
    "# Chamando a função para inserir alunos não alocados\n",
    "inserir_alunos_nao_alocados(connection)\n"
   ]
  },
  {
   "cell_type": "markdown",
   "metadata": {},
   "source": [
    "d) Atualizar a coluna aluno_alocado da tabela aluno:"
   ]
  },
  {
   "cell_type": "code",
   "execution_count": 11,
   "metadata": {},
   "outputs": [
    {
     "name": "stdout",
     "output_type": "stream",
     "text": [
      "Aluno 1 atualizado para alocado = True.\n",
      "Aluno 2 atualizado para alocado = True.\n",
      "Aluno 3 atualizado para alocado = False.\n",
      "Aluno 4 atualizado para alocado = False.\n"
     ]
    }
   ],
   "source": [
    "def atualizar_aluno_alocado(connection, aluno_id, alocado):\n",
    "    try:\n",
    "        cursor = connection.cursor()\n",
    "        cursor.execute(\"UPDATE aluno SET aluno_alocado = %s WHERE id_aluno = %s\", (alocado, aluno_id))\n",
    "        connection.commit()\n",
    "        print(f\"Aluno {aluno_id} atualizado para alocado = {alocado}.\")\n",
    "    except Exception as e:\n",
    "        print(\"Erro ao atualizar aluno:\", str(e))\n",
    "\n",
    "# Atualizar alunos alocados\n",
    "atualizar_aluno_alocado(connection, 1, True)\n",
    "atualizar_aluno_alocado(connection, 2, True)\n",
    "\n",
    "# Atualizar alunos não alocados\n",
    "atualizar_aluno_alocado(connection, 3, False)\n",
    "atualizar_aluno_alocado(connection, 4, False)\n"
   ]
  },
  {
   "cell_type": "code",
   "execution_count": 12,
   "metadata": {},
   "outputs": [
    {
     "name": "stdout",
     "output_type": "stream",
     "text": [
      "turminhadb\n"
     ]
    }
   ],
   "source": [
    "! docker container stop turminhadb"
   ]
  }
 ],
 "metadata": {
  "kernelspec": {
   "display_name": "Python 3",
   "language": "python",
   "name": "python3"
  },
  "language_info": {
   "codemirror_mode": {
    "name": "ipython",
    "version": 3
   },
   "file_extension": ".py",
   "mimetype": "text/x-python",
   "name": "python",
   "nbconvert_exporter": "python",
   "pygments_lexer": "ipython3",
   "version": "3.10.12"
  },
  "orig_nbformat": 4
 },
 "nbformat": 4,
 "nbformat_minor": 2
}
