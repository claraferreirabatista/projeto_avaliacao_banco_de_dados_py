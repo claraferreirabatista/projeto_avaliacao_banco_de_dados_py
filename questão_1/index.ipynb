{
 "cells": [
  {
   "cell_type": "code",
   "execution_count": 1,
   "metadata": {},
   "outputs": [
    {
     "name": "stdout",
     "output_type": "stream",
     "text": [
      "1dc9143df7fc56c049268f033336fef2ce174ec0c5c2b4ae6d127e297e0007c4\n"
     ]
    }
   ],
   "source": [
    "! docker run --name banquinhodb -d -e MYSQL_ROOT_PASSWORD=123456 -e MYSQL_DATABASE=banquinho -p 8080:3306 --rm  mysql:8.1.0\n"
   ]
  },
  {
   "cell_type": "code",
   "execution_count": 2,
   "metadata": {},
   "outputs": [
    {
     "name": "stdout",
     "output_type": "stream",
     "text": [
      "Defaulting to user installation because normal site-packages is not writeable\n",
      "Requirement already satisfied: pandas in /home/clara/.local/lib/python3.10/site-packages (2.0.3)\n",
      "Requirement already satisfied: pymysql in /home/clara/.local/lib/python3.10/site-packages (1.1.0)\n",
      "Requirement already satisfied: python-dateutil>=2.8.2 in /home/clara/.local/lib/python3.10/site-packages (from pandas) (2.8.2)\n",
      "Requirement already satisfied: numpy>=1.21.0 in /home/clara/.local/lib/python3.10/site-packages (from pandas) (1.25.2)\n",
      "Requirement already satisfied: tzdata>=2022.1 in /home/clara/.local/lib/python3.10/site-packages (from pandas) (2023.3)\n",
      "Requirement already satisfied: pytz>=2020.1 in /usr/lib/python3/dist-packages (from pandas) (2022.1)\n",
      "Requirement already satisfied: six>=1.5 in /usr/lib/python3/dist-packages (from python-dateutil>=2.8.2->pandas) (1.16.0)\n"
     ]
    }
   ],
   "source": [
    "! pip install pandas pymysql\n",
    "\n",
    "import pandas as pd\n",
    "import warnings\n",
    "import pymysql\n",
    "warnings.filterwarnings('ignore')"
   ]
  },
  {
   "cell_type": "code",
   "execution_count": 3,
   "metadata": {},
   "outputs": [],
   "source": [
    "def conexao():\n",
    "    try:\n",
    "        conn = pymysql.connect(\n",
    "            user='root',\n",
    "            host='127.0.0.1',\n",
    "            port=8080,\n",
    "            password='123456',\n",
    "            database = \"banquinho\",\n",
    "        )\n",
    "        return conn\n",
    "    except pymysql.Error as e:\n",
    "        raise Exception('Erro ao se conectar: ' + str(e))"
   ]
  },
  {
   "cell_type": "markdown",
   "metadata": {},
   "source": [
    "Não execute tudo, pois o banco leva ao menos 45segundos para iniciar o banco. "
   ]
  },
  {
   "cell_type": "code",
   "execution_count": 6,
   "metadata": {},
   "outputs": [],
   "source": [
    "conn = conexao()"
   ]
  },
  {
   "cell_type": "code",
   "execution_count": 7,
   "metadata": {},
   "outputs": [],
   "source": [
    "from ddl_cliente_e_seus_relacionamentos import criar_tabela_tipo_cliente, criar_tabela_cliente\n",
    "from ddl_produto_e_seus_relacionamentos import criar_tabelas_produtos\n",
    "from ddl_cliente_produto import criar_tabela_cliente_produto\n",
    "from dml_relacionamentos_produtos import inserir_diretores, inserir_categorias\n",
    "from dml_produtos import inserir_produtos\n",
    "from dml_clientes_seus_tipos import inserir_tipos_cliente, inserir_clientes\n",
    "\n"
   ]
  },
  {
   "cell_type": "code",
   "execution_count": 8,
   "metadata": {},
   "outputs": [],
   "source": [
    "criar_tabela_tipo_cliente(conn)"
   ]
  },
  {
   "cell_type": "code",
   "execution_count": 9,
   "metadata": {},
   "outputs": [],
   "source": [
    "criar_tabela_cliente(conn)"
   ]
  },
  {
   "cell_type": "code",
   "execution_count": 10,
   "metadata": {},
   "outputs": [],
   "source": [
    "criar_tabelas_produtos(conn)"
   ]
  },
  {
   "cell_type": "code",
   "execution_count": 11,
   "metadata": {},
   "outputs": [],
   "source": [
    "inserir_diretores(conn)"
   ]
  },
  {
   "cell_type": "code",
   "execution_count": 12,
   "metadata": {},
   "outputs": [],
   "source": [
    "inserir_categorias(conn)"
   ]
  },
  {
   "cell_type": "code",
   "execution_count": 13,
   "metadata": {},
   "outputs": [],
   "source": [
    "inserir_produtos(conn)"
   ]
  },
  {
   "cell_type": "code",
   "execution_count": 14,
   "metadata": {},
   "outputs": [],
   "source": [
    "inserir_tipos_cliente(conn)"
   ]
  },
  {
   "cell_type": "code",
   "execution_count": 15,
   "metadata": {},
   "outputs": [],
   "source": [
    "inserir_clientes(conn)"
   ]
  },
  {
   "cell_type": "code",
   "execution_count": 16,
   "metadata": {},
   "outputs": [],
   "source": [
    "def listar_ids_e_precos_acima_media(conn):\n",
    "    try:\n",
    "        cursor = conn.cursor()\n",
    "\n",
    "        dql_media_valor = \"\"\"\n",
    "        SELECT codigo_produto as ID, valor as Preço\n",
    "        FROM produto\n",
    "        WHERE valor > (SELECT AVG(valor) FROM produto);\n",
    "        \"\"\"\n",
    "        cursor.execute(dql_media_valor)\n",
    "\n",
    "        resultados = cursor.fetchall()\n",
    "\n",
    "        # Converter os resultados em um DataFrame do Pandas\n",
    "        df = pd.DataFrame(resultados, columns=['ID', 'Preço'])\n",
    "\n",
    "        # Exibir o DataFrame com Pandas\n",
    "        print(df)\n",
    "\n",
    "    except pymysql.Error as e:\n",
    "        raise Exception('Erro ao listar ids e preços acima da média: ', e)"
   ]
  },
  {
   "cell_type": "code",
   "execution_count": 17,
   "metadata": {},
   "outputs": [
    {
     "name": "stdout",
     "output_type": "stream",
     "text": [
      "   ID      Preço\n",
      "0  13  100000.00\n",
      "1  14  150000.00\n",
      "2  19  300000.00\n"
     ]
    }
   ],
   "source": [
    "listar_ids_e_precos_acima_media(conn)"
   ]
  },
  {
   "cell_type": "code",
   "execution_count": 18,
   "metadata": {},
   "outputs": [],
   "source": [
    "def listar_media_preco_por_categoria(conn):\n",
    "    try:\n",
    "        cursor = conn.cursor()\n",
    "\n",
    "        dql_media_categoria = \"\"\"\n",
    "        SELECT categoria.tipo_produto AS Categoria, AVG(produto.valor) as PreçoMédio\n",
    "        FROM categoria\n",
    "        LEFT JOIN produto ON categoria.codigo_categoria = produto.codigo_categoria\n",
    "        GROUP BY categoria.tipo_produto\n",
    "        HAVING PreçoMédio IS NOT NULL\n",
    "        ORDER BY categoria.tipo_produto;\n",
    "        \"\"\"\n",
    "        cursor.execute(dql_media_categoria)\n",
    "\n",
    "        resultados = cursor.fetchall()\n",
    "\n",
    "        # Converter os resultados em um DataFrame do Pandas\n",
    "        df = pd.DataFrame(resultados, columns=['Categoria', 'Preço Médio'])\n",
    "\n",
    "        # Exibir o DataFrame com Pandas\n",
    "        print(df)\n",
    "\n",
    "    except pymysql.Error as e:\n",
    "        raise Exception('Erro ao listar a média de preço por categoria: ', e)"
   ]
  },
  {
   "cell_type": "code",
   "execution_count": 19,
   "metadata": {},
   "outputs": [
    {
     "name": "stdout",
     "output_type": "stream",
     "text": [
      "                     Categoria    Preço Médio\n",
      "0           Cartões de Crédito      50.000000\n",
      "1               Conta Corrente       5.495000\n",
      "2          Crédito Imobiliário  183333.333333\n",
      "3         Empréstimos Pessoais    7500.000000\n",
      "4             Internet Banking       0.000000\n",
      "5  Investimentos em Renda Fixa    5333.333333\n",
      "6       Pagamentos Eletrônicos       0.000000\n",
      "7              Seguros de Vida      50.000000\n"
     ]
    }
   ],
   "source": [
    "listar_media_preco_por_categoria(conn)"
   ]
  },
  {
   "cell_type": "code",
   "execution_count": 20,
   "metadata": {},
   "outputs": [],
   "source": [
    "def listar_produtos_mais_de_100(conn):\n",
    "    try:\n",
    "        cursor = conn.cursor()\n",
    "\n",
    "        dql_produtos_caros = '''\n",
    "        SELECT nome_produto AS Produto, valor AS Valor\n",
    "        FROM produto\n",
    "        WHERE valor > 100\n",
    "        ORDER BY valor, nome_produto;\n",
    "        '''\n",
    "        cursor.execute(dql_produtos_caros)\n",
    "\n",
    "        resultados = cursor.fetchall()\n",
    "\n",
    "        # Converter os resultados em um DataFrame do Pandas\n",
    "        df = pd.DataFrame(resultados, columns=['Produto', 'Valor'])\n",
    "\n",
    "        # Exibir o DataFrame com Pandas\n",
    "        print(df)\n",
    "    except pymysql.Error as e:\n",
    "        raise Exception('Erro ao listar produtos caros: ', e)"
   ]
  },
  {
   "cell_type": "code",
   "execution_count": 21,
   "metadata": {},
   "outputs": [
    {
     "name": "stdout",
     "output_type": "stream",
     "text": [
      "                        Produto      Valor\n",
      "0               Seguro de Carro     200.00\n",
      "1          Seguro de Carro Plus     500.00\n",
      "2  Investimento em Renda Fixa A    1000.00\n",
      "3         Empréstimo Pessoal P1    5000.00\n",
      "4  Investimento em Renda Fixa B    5000.00\n",
      "5         Empréstimo Pessoal P2   10000.00\n",
      "6  Investimento em Renda Fixa C   10000.00\n",
      "7         Crédito Imobiliário A  100000.00\n",
      "8         Crédito Imobiliário B  150000.00\n",
      "9         Crédito Imobiliário C  300000.00\n"
     ]
    }
   ],
   "source": [
    "listar_produtos_mais_de_100(conn)"
   ]
  },
  {
   "cell_type": "code",
   "execution_count": 22,
   "metadata": {},
   "outputs": [
    {
     "name": "stdout",
     "output_type": "stream",
     "text": [
      "banquinhodb\n"
     ]
    }
   ],
   "source": [
    "! docker container stop banquinhodb"
   ]
  }
 ],
 "metadata": {
  "kernelspec": {
   "display_name": "Python 3",
   "language": "python",
   "name": "python3"
  },
  "language_info": {
   "codemirror_mode": {
    "name": "ipython",
    "version": 3
   },
   "file_extension": ".py",
   "mimetype": "text/x-python",
   "name": "python",
   "nbconvert_exporter": "python",
   "pygments_lexer": "ipython3",
   "version": "3.10.12"
  },
  "orig_nbformat": 4
 },
 "nbformat": 4,
 "nbformat_minor": 2
}
